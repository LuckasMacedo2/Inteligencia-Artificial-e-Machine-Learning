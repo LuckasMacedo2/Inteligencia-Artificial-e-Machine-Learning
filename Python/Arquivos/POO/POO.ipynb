{
 "cells": [
  {
   "cell_type": "markdown",
   "metadata": {},
   "source": [
    "Programação Orientada a Objeto\n",
    "\n",
    "Modelo de analise, projeto e programação.\n",
    "\n",
    "Programação estruturada os programas são formados pelas estruturas\n",
    "    Sequenciais\n",
    "    Condicionais\n",
    "    Repetição\n",
    "\n"
   ]
  },
  {
   "cell_type": "markdown",
   "metadata": {},
   "source": [
    "Classe\n",
    "\n",
    "Estrutura básica da POO\n",
    "    Template ao qual os objetos serão moldados\n",
    "    Cria-se então instâncias de classes que são os objetos\n",
    "\n",
    "Objetos\n",
    "    \n",
    "Representam entidades com qualidades e ações, atributos e métodos respectivamente.\n",
    "\n",
    "classe -> Objeto\n",
    "\n",
    "Por convenção o nome da Classe começa com a letra maiuscula\n",
    "    "
   ]
  },
  {
   "cell_type": "code",
   "execution_count": 5,
   "metadata": {},
   "outputs": [],
   "source": [
    "class Livro():\n",
    "    # Construtor da classe\n",
    "    # Chamado primeiro\n",
    "    # self: referencia aos atributos criados nessa classe.\n",
    "    def __init__(self):\n",
    "        self.titulo = 'Destruir o mundo'\n",
    "        self.autor = 'Lucas'\n",
    "    \n",
    "    def imprimir (self):\n",
    "        print ('{}, por: {}'.format(self.titulo, self.autor))"
   ]
  },
  {
   "cell_type": "code",
   "execution_count": 7,
   "metadata": {},
   "outputs": [],
   "source": [
    "# Criando um objeto\n",
    "Livro1 = Livro()"
   ]
  },
  {
   "cell_type": "code",
   "execution_count": 8,
   "metadata": {},
   "outputs": [
    {
     "name": "stdout",
     "output_type": "stream",
     "text": [
      "Destruir o mundo, por: Lucas\n"
     ]
    }
   ],
   "source": [
    "Livro1.imprimir()"
   ]
  },
  {
   "cell_type": "code",
   "execution_count": 9,
   "metadata": {},
   "outputs": [
    {
     "data": {
      "text/plain": [
       "__main__.Livro"
      ]
     },
     "execution_count": 9,
     "metadata": {},
     "output_type": "execute_result"
    }
   ],
   "source": [
    "type(Livro1)"
   ]
  },
  {
   "cell_type": "markdown",
   "metadata": {},
   "source": [
    "Herança\n",
    "Permite a criaçao de sub-classes a partir de classes super classe.\n",
    "Permite a redução da complexidade e a reutilização do código."
   ]
  },
  {
   "cell_type": "code",
   "execution_count": 3,
   "metadata": {},
   "outputs": [],
   "source": [
    "# Super calsse\n",
    "# Comum a todas as classes\n",
    "class Animal():\n",
    "    def __init__(self):\n",
    "        print ('Animal criado')\n",
    "    def identificar(self):\n",
    "        print ('Animal')"
   ]
  },
  {
   "cell_type": "code",
   "execution_count": 10,
   "metadata": {},
   "outputs": [],
   "source": [
    "# Sub classe\n",
    "# Comum com todas as classes e suas proprias caracteristicas\n",
    "# Passa o nome da super classe como parametro da classe na definicao\n",
    "# class sub_class(super_class):\n",
    "class Cachorro(Animal):\n",
    "    def __init__(self):\n",
    "        Animal.__init__(self)\n",
    "        print ('Cachorro criado')\n",
    "    def identificar(self):\n",
    "        print ('Cachorro')\n",
    "    def latir(self):\n",
    "        print ('Yo no hable')"
   ]
  },
  {
   "cell_type": "code",
   "execution_count": 7,
   "metadata": {},
   "outputs": [
    {
     "name": "stdout",
     "output_type": "stream",
     "text": [
      "Animal criado\n",
      "Cachorro criado\n"
     ]
    }
   ],
   "source": [
    "# Criando um cachorro\n",
    "Joe = Cachorro()"
   ]
  },
  {
   "cell_type": "code",
   "execution_count": 8,
   "metadata": {},
   "outputs": [
    {
     "name": "stdout",
     "output_type": "stream",
     "text": [
      "Cachorro\n"
     ]
    }
   ],
   "source": [
    "Joe.identificar()"
   ]
  },
  {
   "cell_type": "markdown",
   "metadata": {},
   "source": [
    "Métodos Especiais\n",
    "\n",
    "Permite que a classe possua funções semlehentas a uma função, dicionario, número.\n",
    "\n",
    "Métodos especiais possui o seguinte padão\n",
    "__nome__"
   ]
  },
  {
   "cell_type": "code",
   "execution_count": 49,
   "metadata": {},
   "outputs": [],
   "source": [
    "class Livro():\n",
    "    def __init__(self, title, author, pages):\n",
    "        print('Criado')\n",
    "        self.title = title\n",
    "        self.author = author\n",
    "        self.pages = pages\n",
    "    \n",
    "    def __str__(self):\n",
    "        return ('Autor: {}, Titulo: {}, Quantidade de Páginas: {}'.format(self.author, self.title, self.pages))\n",
    "    \n",
    "    def __len__(self):\n",
    "        return (self.pages)\n",
    "    "
   ]
  },
  {
   "cell_type": "code",
   "execution_count": 39,
   "metadata": {},
   "outputs": [
    {
     "name": "stdout",
     "output_type": "stream",
     "text": [
      "Criado\n"
     ]
    }
   ],
   "source": [
    "livro = Livro('Destruir o mundo', 'Lucas Macedo', 8000)"
   ]
  },
  {
   "cell_type": "code",
   "execution_count": 40,
   "metadata": {},
   "outputs": [
    {
     "name": "stdout",
     "output_type": "stream",
     "text": [
      "Autor: Lucas Macedo, Titulo: Destruir o mundo, Quantidade de Páginas: 8000\n"
     ]
    }
   ],
   "source": [
    "print (livro)"
   ]
  },
  {
   "cell_type": "code",
   "execution_count": 41,
   "metadata": {},
   "outputs": [
    {
     "data": {
      "text/plain": [
       "'Autor: Lucas Macedo, Titulo: Destruir o mundo, Quantidade de Páginas: 8000'"
      ]
     },
     "execution_count": 41,
     "metadata": {},
     "output_type": "execute_result"
    }
   ],
   "source": [
    "str(livro)"
   ]
  },
  {
   "cell_type": "code",
   "execution_count": 45,
   "metadata": {},
   "outputs": [
    {
     "data": {
      "text/plain": [
       "8000"
      ]
     },
     "execution_count": 45,
     "metadata": {},
     "output_type": "execute_result"
    }
   ],
   "source": [
    "len(livro)"
   ]
  },
  {
   "cell_type": "code",
   "execution_count": 51,
   "metadata": {},
   "outputs": [],
   "source": [
    "# Removendo um atrivuto\n",
    "\n",
    "del livro.pages"
   ]
  },
  {
   "cell_type": "code",
   "execution_count": 56,
   "metadata": {},
   "outputs": [
    {
     "data": {
      "text/plain": [
       "False"
      ]
     },
     "execution_count": 56,
     "metadata": {},
     "output_type": "execute_result"
    }
   ],
   "source": [
    "# Verificando se um atributo existe\n",
    "\n",
    "hasattr(livro, 'pages')"
   ]
  }
 ],
 "metadata": {
  "kernelspec": {
   "display_name": "Python 3",
   "language": "python",
   "name": "python3"
  },
  "language_info": {
   "codemirror_mode": {
    "name": "ipython",
    "version": 3
   },
   "file_extension": ".py",
   "mimetype": "text/x-python",
   "name": "python",
   "nbconvert_exporter": "python",
   "pygments_lexer": "ipython3",
   "version": "3.6.7"
  }
 },
 "nbformat": 4,
 "nbformat_minor": 2
}
