{
 "cells": [
  {
   "cell_type": "markdown",
   "metadata": {},
   "source": [
    "__Big Data com spark__\n",
    "\n",
    "Permite que ao invés de armazenar os dados e após analisa-los, faz-se o seguinte, coleta o dado analisa-o e armazena só que é necessário, \"in real time\". Não há armazenamento de dados. \n",
    "\n",
    "Os dados são analisados enquanto são gerados\n",
    "\n",
    "\n",
    "Coletar dados -> agrupar dados -> analisar os dados -> coletar o resultado -> Descartar os dados e armazenar somente o que é necessário."
   ]
  },
  {
   "cell_type": "code",
   "execution_count": null,
   "metadata": {},
   "outputs": [],
   "source": []
  }
 ],
 "metadata": {
  "kernelspec": {
   "display_name": "Python 3",
   "language": "python",
   "name": "python3"
  },
  "language_info": {
   "codemirror_mode": {
    "name": "ipython",
    "version": 3
   },
   "file_extension": ".py",
   "mimetype": "text/x-python",
   "name": "python",
   "nbconvert_exporter": "python",
   "pygments_lexer": "ipython3",
   "version": "3.6.7"
  }
 },
 "nbformat": 4,
 "nbformat_minor": 2
}
