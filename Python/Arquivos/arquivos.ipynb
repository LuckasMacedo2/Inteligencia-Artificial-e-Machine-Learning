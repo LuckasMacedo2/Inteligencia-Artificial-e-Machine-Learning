{
 "cells": [
  {
   "cell_type": "markdown",
   "metadata": {},
   "source": [
    "Manipulação de arquivos\n",
    "\n",
    "Funções Build in são funcções internas a linguagem.\n",
    "\n",
    "-> Funções\n",
    "open(): Abre o arquivo\n",
    "read(): Lê o arquivo\n",
    "write(): Grava o arquivo\n",
    "seek(): Retorna para o ínicio do arquivo\n",
    "realines(): Retorna a lista de linhas do arquivo.\n",
    "close(): Fecha o arquivo\n",
    "    "
   ]
  },
  {
   "cell_type": "markdown",
   "metadata": {},
   "source": [
    "Leitura"
   ]
  },
  {
   "cell_type": "code",
   "execution_count": 5,
   "metadata": {},
   "outputs": [],
   "source": [
    "# Abrindo o arquivo\n",
    "# open('caminho', modo de leitura)\n",
    "# r: indica que o arquivo será aberto em modo leitura\n",
    "file = open('arquivo1.txt', 'r')"
   ]
  },
  {
   "cell_type": "code",
   "execution_count": 6,
   "metadata": {},
   "outputs": [
    {
     "name": "stdout",
     "output_type": "stream",
     "text": [
      "Destruir o mundo!\n",
      "\n"
     ]
    }
   ],
   "source": [
    "# Lendo o arquivo\n",
    "# arquivo.read()\n",
    "print(file.read())"
   ]
  },
  {
   "cell_type": "code",
   "execution_count": 7,
   "metadata": {},
   "outputs": [
    {
     "name": "stdout",
     "output_type": "stream",
     "text": [
      "18\n"
     ]
    }
   ],
   "source": [
    "# Numero de caracteres no arquivo\n",
    "# arqvuivo.tell()\n",
    "print (file.tell())"
   ]
  },
  {
   "cell_type": "code",
   "execution_count": 13,
   "metadata": {},
   "outputs": [
    {
     "name": "stdout",
     "output_type": "stream",
     "text": [
      "0\n"
     ]
    }
   ],
   "source": [
    "# Retornando a um ponto especifico do arquivo\n",
    "# arquivo.seek(linha, coluna)\n",
    "print(file.seek(0, 0))"
   ]
  },
  {
   "cell_type": "code",
   "execution_count": 14,
   "metadata": {},
   "outputs": [
    {
     "name": "stdout",
     "output_type": "stream",
     "text": [
      "Destruir o\n"
     ]
    }
   ],
   "source": [
    "# Lendo uma quantidade de caracteres\n",
    "# arquivo.read(n_caracteres_a_serem_lidos\n",
    "print(file.read(10))"
   ]
  },
  {
   "cell_type": "markdown",
   "metadata": {},
   "source": [
    "Gravação"
   ]
  },
  {
   "cell_type": "code",
   "execution_count": 16,
   "metadata": {},
   "outputs": [],
   "source": [
    "# Gravando no arquivo\n",
    "# open('caminho', modo de leitura)\n",
    "# w: indica que o arquivo será aberto em modo gravacao\n",
    "file1 = open('arquivo1.txt', 'w')"
   ]
  },
  {
   "cell_type": "code",
   "execution_count": 17,
   "metadata": {},
   "outputs": [
    {
     "data": {
      "text/plain": [
       "29"
      ]
     },
     "execution_count": 17,
     "metadata": {},
     "output_type": "execute_result"
    }
   ],
   "source": [
    "# Escrevendo no arquivo\n",
    "# arquivo.write(mensagem a ser gravada)\n",
    "file1.write(\"Hoje mesmo e também dominá-lo\")"
   ]
  },
  {
   "cell_type": "code",
   "execution_count": 19,
   "metadata": {},
   "outputs": [],
   "source": [
    "# Fechando o arquivo\n",
    "# arquivo.close()\n",
    "file1.close()"
   ]
  },
  {
   "cell_type": "code",
   "execution_count": 20,
   "metadata": {},
   "outputs": [
    {
     "name": "stdout",
     "output_type": "stream",
     "text": [
      "Hoje mesmo e também dominá-lo\n"
     ]
    }
   ],
   "source": [
    "file = open('arquivo1.txt', 'r')\n",
    "print(file.read())"
   ]
  },
  {
   "cell_type": "code",
   "execution_count": 25,
   "metadata": {},
   "outputs": [],
   "source": [
    "# Adicionando novas linhas no arquivo\n",
    "# open('caminho', modo de leitura)\n",
    "# a: indica que o arquivo sera aberto em modo append\n",
    "file2 = open('arquivo1.txt', 'a')"
   ]
  },
  {
   "cell_type": "code",
   "execution_count": 26,
   "metadata": {},
   "outputs": [],
   "source": [
    "file2.write(' Destruir o mundo!')\n",
    "file2.close()"
   ]
  },
  {
   "cell_type": "code",
   "execution_count": 27,
   "metadata": {},
   "outputs": [
    {
     "name": "stdout",
     "output_type": "stream",
     "text": [
      "Hoje mesmo e também dominá-loDestruir o mundo!Destruir o mundo! Destruir o mundo!\n"
     ]
    }
   ],
   "source": [
    "file = open('arquivo1.txt', 'r')\n",
    "print(file.read())"
   ]
  },
  {
   "cell_type": "code",
   "execution_count": null,
   "metadata": {},
   "outputs": [],
   "source": []
  }
 ],
 "metadata": {
  "kernelspec": {
   "display_name": "Python 3",
   "language": "python",
   "name": "python3"
  },
  "language_info": {
   "codemirror_mode": {
    "name": "ipython",
    "version": 3
   },
   "file_extension": ".py",
   "mimetype": "text/x-python",
   "name": "python",
   "nbconvert_exporter": "python",
   "pygments_lexer": "ipython3",
   "version": "3.6.7"
  }
 },
 "nbformat": 4,
 "nbformat_minor": 2
}
