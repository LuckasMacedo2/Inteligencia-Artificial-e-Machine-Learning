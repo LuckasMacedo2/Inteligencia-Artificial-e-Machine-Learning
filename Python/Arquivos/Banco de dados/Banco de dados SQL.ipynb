{
 "cells": [
  {
   "cell_type": "markdown",
   "metadata": {},
   "source": [
    "Manipulação de banco de dados\n",
    "\n",
    "Banco de dados\n",
    "    Informação\n",
    "    São coleção de dados organizados entre si e organizados para fornecer informações.\n",
    "    Os dados são estruturado, possuem uma organização."
   ]
  },
  {
   "cell_type": "markdown",
   "metadata": {},
   "source": [
    "Sistema Gerenciador de Banco de Dados (SGBD)\n",
    "    Softwares de gerenciamento de uma base dados\n",
    "        Cuidam do CRUD\n",
    "    -> Linguagem SQL"
   ]
  },
  {
   "cell_type": "markdown",
   "metadata": {},
   "source": [
    "Banco de Dados Relacionais\n",
    "    Representam e armazenam os dados baseados em tabelas. Modelados a partir da álgebra relacional.\n",
    "    Sistema de gerenciamento: RDBMS\n",
    "    Coleção de tabelas.  "
   ]
  },
  {
   "cell_type": "markdown",
   "metadata": {},
   "source": [
    "Tabela: Conjunto de linhas e colunas, de forma que todas as linhas possuam o mesmo número de colunas. Contém dados das entidades.\n",
    "\n",
    "Registro (tupla): cada linha formada por uma lista ordenada de colunas. Podem conter valores nulos.\n",
    "\n",
    "Atributos: Colunas de uma tabela.\n",
    "\n",
    "Dominio: Conjunto de valores que um atributo pode assumir.\n",
    "\n",
    "Chave: Permite a identificação de um registro a outro. Trata-se de um atributo. Permite o relacionamento entre diversas tabelas.\n",
    "    Chave Primária: Uma ou mais colunas que visam garantir a unicidade das linhas, só existe em cada tabela.\n",
    "    Chave Estrageira: Uma ou mais colunas de uma tabela que contém valores da chave primária de outra tabela. Em uma tabela podem existir várias chaves estrangueiras.\n",
    "    \n",
    "Índices: Lista ordenada de valores que apontam para os dados na tabela. Busca agilizar a leitura dos dados.\n",
    "\n",
    "Integridade referencial: Conceito em que várias tabelas do banco compartilham uma relação com base nos dados armazenados nas tabelas e essa relação deve ser coerente.\n",
    "\n",
    "Normalização: Organazação de campos e tabelas que buscam minimizar a redundância e a depêndencia. Isolar dados de forma que as operações sejam feitas em uma unica tabela e se propague pelo banco de dados."
   ]
  },
  {
   "cell_type": "markdown",
   "metadata": {},
   "source": [
    "Linguagem SQL\n",
    "\n",
    "Acessos são realizados a partir do SQL.\n",
    "    Data Manipulation Language (DML): Utilizadas durante o desenvolvimento do banco de dados.\n",
    "        Select: Pesquisa\n",
    "        Update: Atualização\n",
    "        Delete: Deleção\n",
    "        Insert: Inserção\n",
    "    Data Definition Language (DDL): Operações de suporte\n",
    "        Create: Definição de um objeto. Criar\n",
    "        Alter: Alteração de um objeto. Alterar\n",
    "        Drop: Eliminação de um objeto. Eliminar\n",
    "    Data Control Language (DDL): Suporte e Desenvolvimento\n",
    "        Grant: Fornecer um privilegio. Conceder\n",
    "        Rekove: Retirar o privilegio. Remover  \n",
    "        \n",
    "Permite extrair dados de um banco de dados"
   ]
  },
  {
   "cell_type": "markdown",
   "metadata": {},
   "source": [
    "Linguagem SQL para BIG DATA"
   ]
  },
  {
   "cell_type": "raw",
   "metadata": {},
   "source": [
    "\n",
    "SQLite\n",
    "\n",
    "\n",
    "Trata-se de um engine motoro de um banco de dados sql\n",
    "Banco de dados relacional.\n",
    "\n",
    "As trabelas relacionam entre si a partir de um chave.\n",
    "\n",
    "Versão simplificada de um banco relacional. O banco de dados fica em apenas um arquivo. Onde são carregados em momória apenas os arquivos utilziados no momento. Arquivo multiplataforma, pequeno e leve.\n",
    "\n",
    "Não requer um processo ou serviço sendo executado em um servidor. Todo acesso ao banco de dados é feito através de leitura/escrita aos arquivos do banco de dados."
   ]
  },
  {
   "cell_type": "code",
   "execution_count": 2,
   "metadata": {},
   "outputs": [],
   "source": [
    "# Removendo o arquivo case ele exista\n",
    "import os\n",
    "os.remove('escola.db') if os.path.exists('escola.db') else None"
   ]
  },
  {
   "cell_type": "code",
   "execution_count": 3,
   "metadata": {},
   "outputs": [],
   "source": [
    "# Importando o sqlite\n",
    "import sqlite3"
   ]
  },
  {
   "cell_type": "code",
   "execution_count": 4,
   "metadata": {},
   "outputs": [],
   "source": [
    "# Criando uma conexão com o banco de dados\n",
    "# Se o banco não existir o mesmo e criado automaticamente\n",
    "con = sqlite3.connect('escola.db')"
   ]
  },
  {
   "cell_type": "code",
   "execution_count": 5,
   "metadata": {},
   "outputs": [
    {
     "data": {
      "text/plain": [
       "sqlite3.Connection"
      ]
     },
     "execution_count": 5,
     "metadata": {},
     "output_type": "execute_result"
    }
   ],
   "source": [
    "type(con)"
   ]
  },
  {
   "cell_type": "code",
   "execution_count": 6,
   "metadata": {},
   "outputs": [],
   "source": [
    "# Criando um cursor\n",
    "# Um cursor permite percorrer todos os registros em um conjunto de dados\n",
    "# Percorre a linha, da acesso ao banco de dados\n",
    "cur = con.cursor()"
   ]
  },
  {
   "cell_type": "code",
   "execution_count": 7,
   "metadata": {},
   "outputs": [
    {
     "data": {
      "text/plain": [
       "sqlite3.Cursor"
      ]
     },
     "execution_count": 7,
     "metadata": {},
     "output_type": "execute_result"
    }
   ],
   "source": [
    "type(cur)"
   ]
  },
  {
   "cell_type": "code",
   "execution_count": 8,
   "metadata": {},
   "outputs": [],
   "source": [
    "# Criando uma tabela\n",
    "\n",
    "sql_create = 'create table cursos (id integer primary key,\\\n",
    "titulo varchar(100), categoria varchar(140))' # Instrucao DDL"
   ]
  },
  {
   "cell_type": "code",
   "execution_count": 9,
   "metadata": {},
   "outputs": [
    {
     "data": {
      "text/plain": [
       "<sqlite3.Cursor at 0x7f83f9e5bd50>"
      ]
     },
     "execution_count": 9,
     "metadata": {},
     "output_type": "execute_result"
    }
   ],
   "source": [
    "# Executando a instrucao no cursor\n",
    "cur.execute(sql_create)"
   ]
  },
  {
   "cell_type": "code",
   "execution_count": 10,
   "metadata": {},
   "outputs": [],
   "source": [
    "# Inserindo dados na tabela\n",
    "\n",
    "sql_insert = 'insert into cursos values (?, ?, ?)'"
   ]
  },
  {
   "cell_type": "code",
   "execution_count": 11,
   "metadata": {},
   "outputs": [],
   "source": [
    "# Dados\n",
    "dataset = [(1000, 'Mago', 'Magia'),\n",
    "          ((1001), 'Abacaxi', 'Bob'),\n",
    "          ((1002), 'Batata', 'Morango')]"
   ]
  },
  {
   "cell_type": "code",
   "execution_count": 12,
   "metadata": {},
   "outputs": [],
   "source": [
    "# Inserindo os registros\n",
    "for ds in dataset:\n",
    "    cur.execute(sql_insert, ds)"
   ]
  },
  {
   "cell_type": "code",
   "execution_count": 13,
   "metadata": {},
   "outputs": [],
   "source": [
    "# Gravando a transação\n",
    "# Salva, para não perder os dados, garanti que os dados \n",
    "# sejam gravados no banco de dados\n",
    "con.commit()"
   ]
  },
  {
   "cell_type": "code",
   "execution_count": 14,
   "metadata": {},
   "outputs": [],
   "source": [
    "# Consulta aos dados\n",
    "sql_select = 'select * from cursos'"
   ]
  },
  {
   "cell_type": "code",
   "execution_count": 15,
   "metadata": {},
   "outputs": [],
   "source": [
    "# Selecionando e recuperando os registros\n",
    "cur.execute(sql_select)\n",
    "dados = cur.fetchall()"
   ]
  },
  {
   "cell_type": "code",
   "execution_count": 19,
   "metadata": {},
   "outputs": [
    {
     "name": "stdout",
     "output_type": "stream",
     "text": [
      "Curso Id: 1000, Titulo: Mago, Categoria Magia\n",
      "\n",
      "Curso Id: 1001, Titulo: Abacaxi, Categoria Bob\n",
      "\n",
      "Curso Id: 1002, Titulo: Batata, Categoria Morango\n",
      "\n"
     ]
    }
   ],
   "source": [
    "# Listandos\n",
    "for line in dados:\n",
    "    print('Curso Id: %d, Titulo: %s, Categoria %s\\n' % line)"
   ]
  },
  {
   "cell_type": "code",
   "execution_count": 20,
   "metadata": {},
   "outputs": [],
   "source": [
    "# Gerar registros\n",
    "# Inseri \n",
    "# Commit"
   ]
  },
  {
   "cell_type": "code",
   "execution_count": 21,
   "metadata": {},
   "outputs": [],
   "source": [
    "# Fechando a conexão\n",
    "con.close()"
   ]
  },
  {
   "cell_type": "markdown",
   "metadata": {},
   "source": [
    "__Inserção de dados__"
   ]
  },
  {
   "cell_type": "code",
   "execution_count": 38,
   "metadata": {},
   "outputs": [],
   "source": [
    "import os\n",
    "os.remove('l.db') if os.path.exists('l.db') else None"
   ]
  },
  {
   "cell_type": "code",
   "execution_count": 39,
   "metadata": {},
   "outputs": [],
   "source": [
    "import sqlite3"
   ]
  },
  {
   "cell_type": "code",
   "execution_count": 45,
   "metadata": {},
   "outputs": [],
   "source": [
    "# Conexao\n",
    "con = sqlite3.connect('l.db')\n",
    "\n",
    "# Cursor\n",
    "cursor = con.cursor()"
   ]
  },
  {
   "cell_type": "code",
   "execution_count": 41,
   "metadata": {},
   "outputs": [],
   "source": [
    "# Funcao que cria tabela\n",
    "def create_table():\n",
    "    cursor.execute('CREATE TABLE IF NOT EXISTS produtos (id Integer Primary Key Not Null, date text , hour text,\\\n",
    "    prod_name text, valor real)')\n",
    "    "
   ]
  },
  {
   "cell_type": "code",
   "execution_count": 44,
   "metadata": {},
   "outputs": [],
   "source": [
    "# Funcao para inserir uma linha\n",
    "def data_insert():\n",
    "    cursor.execute(\"INSERT INTO produtos VALUES (13, '2019-01-01', '14:32:32', 'Teclado', 90)\")\n",
    "    con.commit()\n",
    "    cursor.close()\n",
    "    con.close()"
   ]
  },
  {
   "cell_type": "code",
   "execution_count": 42,
   "metadata": {},
   "outputs": [],
   "source": [
    "# Criando a tabela\n",
    "create_table()"
   ]
  },
  {
   "cell_type": "code",
   "execution_count": 46,
   "metadata": {},
   "outputs": [],
   "source": [
    "# Inserindo dados\n",
    "data_insert()"
   ]
  },
  {
   "cell_type": "markdown",
   "metadata": {},
   "source": [
    "__Insert com variaveis__"
   ]
  },
  {
   "cell_type": "code",
   "execution_count": 1,
   "metadata": {},
   "outputs": [],
   "source": [
    "import sqlite3\n",
    "import random\n",
    "import time\n",
    "import datetime"
   ]
  },
  {
   "cell_type": "code",
   "execution_count": 12,
   "metadata": {},
   "outputs": [],
   "source": [
    "# Conexao\n",
    "conn = sqlite3.connect('l.db')"
   ]
  },
  {
   "cell_type": "code",
   "execution_count": 13,
   "metadata": {},
   "outputs": [],
   "source": [
    "# Cursor\n",
    "c = conn.cursor()"
   ]
  },
  {
   "cell_type": "code",
   "execution_count": 4,
   "metadata": {},
   "outputs": [],
   "source": [
    "# Cria tabela\n",
    "def create_table():\n",
    "    c.execute('CREATE TABLE IF NOT EXISTS produtos (id Integer Primary Key Not Null, date text , hour text,\\\n",
    "    prod_name text, valor real)')"
   ]
  },
  {
   "cell_type": "code",
   "execution_count": 5,
   "metadata": {},
   "outputs": [],
   "source": [
    "# Inseri uma linha\n",
    "def data_insert():\n",
    "    cursor.execute(\"INSERT INTO produtos VALUES (13, '2019-01-01', '14:32:32', 'Teclado', 90)\")\n",
    "    con.commit()\n",
    "    cursor.close()\n",
    "    con.close()"
   ]
  },
  {
   "cell_type": "code",
   "execution_count": 6,
   "metadata": {},
   "outputs": [],
   "source": [
    "def data_insert_var():\n",
    "    new_date = datetime.datetime.now()\n",
    "    new_prod_name = 'Monitor'\n",
    "    new_valor = random.randrange(50, 100)\n",
    "    c.execute(\"INSERT INTO produtos (date, prod_name, valor) VALUES (?, ?,?)\", (new_date, new_prod_name, new_valor))\n",
    "    conn.commit()"
   ]
  },
  {
   "cell_type": "code",
   "execution_count": 7,
   "metadata": {},
   "outputs": [],
   "source": [
    "# Defininfo e inserindo na tabela\n",
    "for i in range(10):\n",
    "    data_insert_var()\n",
    "    time.sleep(1)"
   ]
  },
  {
   "cell_type": "code",
   "execution_count": 8,
   "metadata": {},
   "outputs": [],
   "source": [
    "# Fechando a cenexao\n",
    "c.close()\n",
    "conn.close()"
   ]
  },
  {
   "cell_type": "markdown",
   "metadata": {},
   "source": [
    "__Select__\n",
    "\n",
    "Método \n",
    "fetchall(): Itera sobre o cursor"
   ]
  },
  {
   "cell_type": "code",
   "execution_count": 36,
   "metadata": {},
   "outputs": [],
   "source": [
    "# Leitura dos dados\n",
    "# Todos\n",
    "def leitura_todos_dados():\n",
    "    c.execute('SELECT * FROM PRODUTOS')\n",
    "    for linha in c.fetchall():\n",
    "        print (linha)"
   ]
  },
  {
   "cell_type": "code",
   "execution_count": 15,
   "metadata": {},
   "outputs": [],
   "source": [
    "# Leitura dos dados\n",
    "# Registros\n",
    "def leitura_registros():\n",
    "    c.execute('SELECT * FROM PRODUTOS WHERE valor > 60.0')\n",
    "    for linha in c.fetchall():\n",
    "        print (linha)"
   ]
  },
  {
   "cell_type": "code",
   "execution_count": 37,
   "metadata": {},
   "outputs": [],
   "source": [
    "# Leitura dos dados\n",
    "# Colunas\n",
    "def leitura_colunas():\n",
    "    c.execute('SELECT * FROM PRODUTOS')\n",
    "    for linha in c.fetchall():\n",
    "        print (linha[3])"
   ]
  },
  {
   "cell_type": "code",
   "execution_count": 38,
   "metadata": {},
   "outputs": [
    {
     "name": "stdout",
     "output_type": "stream",
     "text": [
      "(12, '2019-01-01', '14:32:32', 'Teclado', 90.0)\n",
      "(13, '2019-01-01', '14:32:32', 'Teclado', 90.0)\n",
      "(14, '2019-01-27 23:57:30.076676', None, 'Monitor', 89.0)\n",
      "(15, '2019-01-27 23:57:31.270115', None, 'Monitor', 90.0)\n",
      "(16, '2019-01-27 23:57:32.348068', None, 'Monitor', 53.0)\n",
      "(17, '2019-01-27 23:57:33.414949', None, 'Monitor', 93.0)\n",
      "(18, '2019-01-27 23:57:34.492979', None, 'Monitor', 74.0)\n",
      "(19, '2019-01-27 23:57:35.559942', None, 'Monitor', 96.0)\n",
      "(20, '2019-01-27 23:57:36.626878', None, 'Monitor', 57.0)\n",
      "(21, '2019-01-27 23:57:37.715888', None, 'Monitor', 56.0)\n",
      "(22, '2019-01-27 23:57:38.793462', None, 'Monitor', 70.0)\n",
      "(23, '2019-01-27 23:57:39.882816', None, 'Monitor', 68.0)\n"
     ]
    }
   ],
   "source": [
    "leitura_todos_dados()"
   ]
  },
  {
   "cell_type": "code",
   "execution_count": 16,
   "metadata": {},
   "outputs": [
    {
     "name": "stdout",
     "output_type": "stream",
     "text": [
      "(12, '2019-01-01', '14:32:32', 'Teclado', 90.0)\n",
      "(13, '2019-01-01', '14:32:32', 'Teclado', 90.0)\n",
      "(14, '2019-01-27 23:57:30.076676', None, 'Monitor', 89.0)\n",
      "(15, '2019-01-27 23:57:31.270115', None, 'Monitor', 90.0)\n",
      "(17, '2019-01-27 23:57:33.414949', None, 'Monitor', 93.0)\n",
      "(18, '2019-01-27 23:57:34.492979', None, 'Monitor', 74.0)\n",
      "(19, '2019-01-27 23:57:35.559942', None, 'Monitor', 96.0)\n",
      "(22, '2019-01-27 23:57:38.793462', None, 'Monitor', 80.0)\n",
      "(23, '2019-01-27 23:57:39.882816', None, 'Monitor', 68.0)\n"
     ]
    }
   ],
   "source": [
    "leitura_registros()"
   ]
  },
  {
   "cell_type": "code",
   "execution_count": 19,
   "metadata": {},
   "outputs": [
    {
     "name": "stdout",
     "output_type": "stream",
     "text": [
      "Teclado\n",
      "Teclado\n",
      "Monitor\n",
      "Monitor\n",
      "Monitor\n",
      "Monitor\n",
      "Monitor\n",
      "Monitor\n",
      "Monitor\n",
      "Monitor\n",
      "Monitor\n",
      "Monitor\n"
     ]
    }
   ],
   "source": [
    "leitura_colunas()"
   ]
  },
  {
   "cell_type": "code",
   "execution_count": null,
   "metadata": {},
   "outputs": [],
   "source": [
    "cursor.close()"
   ]
  },
  {
   "cell_type": "markdown",
   "metadata": {},
   "source": [
    "__Update e Delete__"
   ]
  },
  {
   "cell_type": "code",
   "execution_count": 28,
   "metadata": {},
   "outputs": [],
   "source": [
    "# Update = Atualizacao\n",
    "# Delete = Delecao"
   ]
  },
  {
   "cell_type": "code",
   "execution_count": 33,
   "metadata": {},
   "outputs": [],
   "source": [
    "# Update\n",
    "def atualiza_dados():\n",
    "    c.execute('UPDATE produtos SET valor = 70.00 WHERE valor = 80.00')\n",
    "    conn.commit()"
   ]
  },
  {
   "cell_type": "code",
   "execution_count": null,
   "metadata": {},
   "outputs": [],
   "source": [
    "# Delete"
   ]
  },
  {
   "cell_type": "code",
   "execution_count": 45,
   "metadata": {},
   "outputs": [],
   "source": [
    "def remove_dados():\n",
    "    c.execute('DELETE FROM produtos WHERE valor = 57.0')\n",
    "    conn.commit()"
   ]
  },
  {
   "cell_type": "code",
   "execution_count": 46,
   "metadata": {},
   "outputs": [],
   "source": [
    "atualiza_dados()"
   ]
  },
  {
   "cell_type": "code",
   "execution_count": 47,
   "metadata": {},
   "outputs": [
    {
     "name": "stdout",
     "output_type": "stream",
     "text": [
      "(12, '2019-01-01', '14:32:32', 'Teclado', 90.0)\n",
      "(13, '2019-01-01', '14:32:32', 'Teclado', 90.0)\n",
      "(14, '2019-01-27 23:57:30.076676', None, 'Monitor', 89.0)\n",
      "(15, '2019-01-27 23:57:31.270115', None, 'Monitor', 90.0)\n",
      "(16, '2019-01-27 23:57:32.348068', None, 'Monitor', 53.0)\n",
      "(17, '2019-01-27 23:57:33.414949', None, 'Monitor', 93.0)\n",
      "(18, '2019-01-27 23:57:34.492979', None, 'Monitor', 74.0)\n",
      "(19, '2019-01-27 23:57:35.559942', None, 'Monitor', 96.0)\n",
      "(20, '2019-01-27 23:57:36.626878', None, 'Monitor', 57.0)\n",
      "(21, '2019-01-27 23:57:37.715888', None, 'Monitor', 56.0)\n",
      "(22, '2019-01-27 23:57:38.793462', None, 'Monitor', 70.0)\n",
      "(23, '2019-01-27 23:57:39.882816', None, 'Monitor', 68.0)\n"
     ]
    }
   ],
   "source": [
    "leitura_todos_dados()"
   ]
  },
  {
   "cell_type": "code",
   "execution_count": 48,
   "metadata": {},
   "outputs": [],
   "source": [
    "remove_dados()"
   ]
  },
  {
   "cell_type": "code",
   "execution_count": 49,
   "metadata": {},
   "outputs": [
    {
     "name": "stdout",
     "output_type": "stream",
     "text": [
      "(12, '2019-01-01', '14:32:32', 'Teclado', 90.0)\n",
      "(13, '2019-01-01', '14:32:32', 'Teclado', 90.0)\n",
      "(14, '2019-01-27 23:57:30.076676', None, 'Monitor', 89.0)\n",
      "(15, '2019-01-27 23:57:31.270115', None, 'Monitor', 90.0)\n",
      "(16, '2019-01-27 23:57:32.348068', None, 'Monitor', 53.0)\n",
      "(17, '2019-01-27 23:57:33.414949', None, 'Monitor', 93.0)\n",
      "(18, '2019-01-27 23:57:34.492979', None, 'Monitor', 74.0)\n",
      "(19, '2019-01-27 23:57:35.559942', None, 'Monitor', 96.0)\n",
      "(21, '2019-01-27 23:57:37.715888', None, 'Monitor', 56.0)\n",
      "(22, '2019-01-27 23:57:38.793462', None, 'Monitor', 70.0)\n",
      "(23, '2019-01-27 23:57:39.882816', None, 'Monitor', 68.0)\n"
     ]
    }
   ],
   "source": [
    "leitura_todos_dados()"
   ]
  },
  {
   "cell_type": "markdown",
   "metadata": {},
   "source": [
    "__Gráficos__"
   ]
  },
  {
   "cell_type": "code",
   "execution_count": 20,
   "metadata": {},
   "outputs": [],
   "source": [
    "import matplotlib.pyplot as plt\n",
    "%matplotlib inline # Permite a criação do gráfico na propria janela"
   ]
  },
  {
   "cell_type": "code",
   "execution_count": 50,
   "metadata": {},
   "outputs": [],
   "source": [
    "def dados_grafico():\n",
    "    c.execute('SELECT id, valor FROM produtos')\n",
    "    ids = []\n",
    "    valores = []\n",
    "    dados = c.fetchall()\n",
    "    for linha in dados:\n",
    "        ids.append(linha[0])\n",
    "        valores.append(linha[1])\n",
    "    # Plotando os gráficos\n",
    "    plt.bar(ids, valores)\n",
    "    plt.show()"
   ]
  },
  {
   "cell_type": "code",
   "execution_count": 51,
   "metadata": {},
   "outputs": [
    {
     "data": {
      "image/png": "[encoded data removed]",
      "text/plain": [
       "<Figure size 432x288 with 1 Axes>"
      ]
     },
     "metadata": {
      "needs_background": "light"
     },
     "output_type": "display_data"
    }
   ],
   "source": [
    "dados_grafico()"
   ]
  },
  {
   "cell_type": "code",
   "execution_count": null,
   "metadata": {},
   "outputs": [],
   "source": []
  }
 ],
 "metadata": {
  "kernelspec": {
   "display_name": "Python 3",
   "language": "python",
   "name": "python3"
  },
  "language_info": {
   "codemirror_mode": {
    "name": "ipython",
    "version": 3
   },
   "file_extension": ".py",
   "mimetype": "text/x-python",
   "name": "python",
   "nbconvert_exporter": "python",
   "pygments_lexer": "ipython3",
   "version": "3.6.7"
  }
 },
 "nbformat": 4,
 "nbformat_minor": 2
}
