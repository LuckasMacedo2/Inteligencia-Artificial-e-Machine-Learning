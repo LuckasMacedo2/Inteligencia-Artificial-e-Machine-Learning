{
 "cells": [
  {
   "cell_type": "markdown",
   "metadata": {},
   "source": [
    "__Bancos de dados NoSQL__\n",
    "\n",
    "__Bancos Não relacionais__\n",
    "\n",
    "BD relacionais não foram projetados para tratar grandes quantidades de dados, não são capazes de tratar não estruturados ou semi estruturados. Impossível sua aplicação em Big Data\n",
    "\n",
    "BD não relacionais, projetados para Big Data. Mais rápido, arquitetura escalavel, permite consulta de dados não estruturados e semi estruturados. São distribuidos e não relacionais. Mais eficientes. Busca lidar com grandes volumes de dados.\n",
    "\n",
    "Separados em 4 categorias\n",
    "\n",
    "    -> Graph Databases\n",
    "    \n",
    "    -> Document databases: Armazenamento de documentos\n",
    "    \n",
    "    -> Key-values stores: Armazenados como chave valor\n",
    "    \n",
    "    -> Column Family Stores: Orientado a coluna, pesquisa e armazeamento baseado em keys.\n",
    "    \n",
    "    "
   ]
  },
  {
   "cell_type": "markdown",
   "metadata": {},
   "source": [
    "SGBD: Relacional\n",
    "   * Aplicações centralizadas\n",
    "   * Alta disponibilidade moderada\n",
    "   * Dados gerados em velocidade moderada\n",
    "   * Dados gerados a partir de poucas fontes\n",
    "   * Dados estruturados\n",
    "   * Transações complexas\n",
    "   * Manter volume moderado de dados\n",
    "    \n",
    "Não Relacional\n",
    "   * Aplicações descentralizadas\n",
    "   * Aplicações sempre disponiveis\n",
    "   * Dados gerados em alta velocidade\n",
    "   * Dados gerados a partir de varias fontes\n",
    "   * Dados semi ou não estruturados, armazena também estruturado porém não é recomendavel.\n",
    "   * Transações simples.\n",
    "   * Manter alto volume de dados."
   ]
  },
  {
   "cell_type": "markdown",
   "metadata": {},
   "source": [
    "__Mongo DB__\n",
    "Banco de dados NoSQL orientado a documento.\n",
    "Desenvolvido em C++.\n",
    "\n",
    "* Indexação: Indices secundários\n",
    "* Agregação\n",
    "* Tipos de dados especiais: Dados que expiram, por exemplo.\n",
    "* Armazenamento: Grande quantidade de dados\n",
    "A unidade basica de armazenamento são documentos equivalente a linha/tupla em um banco relacional.\n",
    "\n",
    "Indicado para Big Data, Data Hub, etc."
   ]
  },
  {
   "cell_type": "code",
   "execution_count": 1,
   "metadata": {},
   "outputs": [
    {
     "name": "stdout",
     "output_type": "stream",
     "text": [
      "Collecting pymongo\n",
      "  Downloading https://files.pythonhosted.org/packages/b1/45/5440555b901a8416196fbf2499c4678ef74de8080c007104107a8cfdda20/pymongo-3.7.2-cp36-cp36m-manylinux1_x86_64.whl (408kB)\n",
      "\u001b[K    100% |████████████████████████████████| 409kB 32kB/s \n",
      "\u001b[?25hInstalling collected packages: pymongo\n",
      "Successfully installed pymongo-3.7.2\n"
     ]
    }
   ],
   "source": [
    "# Instalando o pymongo\n",
    "!pip3 install pymongo"
   ]
  },
  {
   "cell_type": "code",
   "execution_count": 12,
   "metadata": {},
   "outputs": [],
   "source": [
    "# Importando MongoClient para criar a conexao com o banco\n",
    "from pymongo import MongoClient"
   ]
  },
  {
   "cell_type": "code",
   "execution_count": 13,
   "metadata": {},
   "outputs": [],
   "source": [
    "# Conectando ao banco de dados\n",
    "# localhost = indica que esta na mesma maquina\n",
    "# 27017  = porta\n",
    "conn = MongoClient('localhost', 27017)"
   ]
  },
  {
   "cell_type": "code",
   "execution_count": 14,
   "metadata": {},
   "outputs": [
    {
     "data": {
      "text/plain": [
       "pymongo.mongo_client.MongoClient"
      ]
     },
     "execution_count": 14,
     "metadata": {},
     "output_type": "execute_result"
    }
   ],
   "source": [
    "type(conn)"
   ]
  },
  {
   "cell_type": "code",
   "execution_count": 15,
   "metadata": {},
   "outputs": [],
   "source": [
    "# Uma instancia pode suportar varios bancos de dados\n",
    "db = conn.cadastroDB"
   ]
  },
  {
   "cell_type": "code",
   "execution_count": 16,
   "metadata": {},
   "outputs": [],
   "source": [
    "# Uma collection (colecao), grupo de documentos armazenados\n",
    "# no mongo DB\n",
    "collection = db.cadastroDB"
   ]
  },
  {
   "cell_type": "code",
   "execution_count": 17,
   "metadata": {},
   "outputs": [
    {
     "data": {
      "text/plain": [
       "pymongo.collection.Collection"
      ]
     },
     "execution_count": 17,
     "metadata": {},
     "output_type": "execute_result"
    }
   ],
   "source": [
    "type(collection)"
   ]
  },
  {
   "cell_type": "markdown",
   "metadata": {},
   "source": [
    "__OBS__\n",
    "\n",
    "No mongo DB as coleções e banco de dados são criados assim que o primeiro documento é inserido.\n",
    "\n",
    "Os dados são armazenados em JSon.\n",
    "O retorno em Python, é um dicionário."
   ]
  },
  {
   "cell_type": "code",
   "execution_count": 8,
   "metadata": {},
   "outputs": [],
   "source": [
    "import datetime"
   ]
  },
  {
   "cell_type": "code",
   "execution_count": 9,
   "metadata": {},
   "outputs": [],
   "source": [
    "import pymongo"
   ]
  },
  {
   "cell_type": "code",
   "execution_count": 10,
   "metadata": {},
   "outputs": [],
   "source": [
    "# Criando uma conexao padrao\n",
    "# 'localhost' e porta 27017\n",
    "client_conn = pymongo.MongoClient()"
   ]
  },
  {
   "cell_type": "code",
   "execution_count": 19,
   "metadata": {},
   "outputs": [
    {
     "data": {
      "text/plain": [
       "['local']"
      ]
     },
     "execution_count": 19,
     "metadata": {},
     "output_type": "execute_result"
    }
   ],
   "source": [
    "# Listando os banco de dados disponiveis\n",
    "client_conn.list_database_names()"
   ]
  },
  {
   "cell_type": "code",
   "execution_count": 20,
   "metadata": {},
   "outputs": [],
   "source": [
    "db = client_conn.cadastrodb"
   ]
  },
  {
   "cell_type": "code",
   "execution_count": 22,
   "metadata": {},
   "outputs": [
    {
     "data": {
      "text/plain": [
       "[]"
      ]
     },
     "execution_count": 22,
     "metadata": {},
     "output_type": "execute_result"
    }
   ],
   "source": [
    "# Listando as colecoes disponiveis\n",
    "db.list_collection_names()"
   ]
  },
  {
   "cell_type": "code",
   "execution_count": 23,
   "metadata": {},
   "outputs": [
    {
     "data": {
      "text/plain": [
       "Collection(Database(MongoClient(host=['localhost:27017'], document_class=dict, tz_aware=False, connect=True), 'cadastrodb'), 'minha_colecao')"
      ]
     },
     "execution_count": 23,
     "metadata": {},
     "output_type": "execute_result"
    }
   ],
   "source": [
    "# Criando uma colecao\n",
    "db.create_collection('minha_colecao')"
   ]
  },
  {
   "cell_type": "code",
   "execution_count": 24,
   "metadata": {},
   "outputs": [
    {
     "data": {
      "text/plain": [
       "['minha_colecao']"
      ]
     },
     "execution_count": 24,
     "metadata": {},
     "output_type": "execute_result"
    }
   ],
   "source": [
    "db.list_collection_names()"
   ]
  },
  {
   "cell_type": "code",
   "execution_count": 26,
   "metadata": {},
   "outputs": [
    {
     "data": {
      "text/plain": [
       "<pymongo.results.InsertOneResult at 0x7f4814108948>"
      ]
     },
     "execution_count": 26,
     "metadata": {},
     "output_type": "execute_result"
    }
   ],
   "source": [
    "# Inserindo um documento na colecao\n",
    "# banco.coleca.insert_one({dicionario de valores})\n",
    "db.minha_colecao.insert_one({\n",
    "    'Titulo':'Destruir o mundo',\n",
    "    'Autor':'Lucas Macedo',\n",
    "    'tags':['Abacaxi', 'Batata', 'Joe'],\n",
    "    'batata':100\n",
    "})"
   ]
  },
  {
   "cell_type": "code",
   "execution_count": 28,
   "metadata": {},
   "outputs": [
    {
     "data": {
      "text/plain": [
       "{'_id': ObjectId('5c4f933b2e06591c981600a1'),\n",
       " 'Titulo': 'Destruir o mundo',\n",
       " 'Autor': 'Lucas Macedo',\n",
       " 'tags': ['Abacaxi', 'Batata', 'Joe'],\n",
       " 'batata': 100}"
      ]
     },
     "execution_count": 28,
     "metadata": {},
     "output_type": "execute_result"
    }
   ],
   "source": [
    "# Buscando um registro dentro da colecao\n",
    "db.minha_colecao.find_one()"
   ]
  },
  {
   "cell_type": "code",
   "execution_count": 31,
   "metadata": {},
   "outputs": [
    {
     "data": {
      "text/plain": [
       "<pymongo.results.InsertOneResult at 0x7f481412e588>"
      ]
     },
     "execution_count": 31,
     "metadata": {},
     "output_type": "execute_result"
    }
   ],
   "source": [
    "doc1 = {\n",
    "    'Titulo':'Documento',\n",
    "    'Autor':'Autor',\n",
    "    'batata':1000\n",
    "}\n",
    "db.minha_colecao.insert_one(doc1)"
   ]
  },
  {
   "cell_type": "code",
   "execution_count": 33,
   "metadata": {},
   "outputs": [
    {
     "name": "stdout",
     "output_type": "stream",
     "text": [
      "{'_id': ObjectId('5c4f933b2e06591c981600a1'), 'Titulo': 'Destruir o mundo', 'Autor': 'Lucas Macedo', 'tags': ['Abacaxi', 'Batata', 'Joe'], 'batata': 100}\n",
      "\n",
      "\n",
      "{'_id': ObjectId('5c4f93d02e06591c981600a2'), 'Titulo': 'Documento', 'Autor': 'Autor', 'batata': 1000}\n",
      "\n",
      "\n"
     ]
    }
   ],
   "source": [
    "# Retornando os documentos da colecao\n",
    "for rec in db.minha_colecao.find():\n",
    "    print (rec)\n",
    "    print ('\\n')"
   ]
  },
  {
   "cell_type": "code",
   "execution_count": 34,
   "metadata": {},
   "outputs": [],
   "source": [
    "# Conectando diretamente a uma colecao\n",
    "col = db['minha_colecao']"
   ]
  },
  {
   "cell_type": "code",
   "execution_count": 41,
   "metadata": {},
   "outputs": [
    {
     "data": {
      "text/plain": [
       "2"
      ]
     },
     "execution_count": 41,
     "metadata": {},
     "output_type": "execute_result"
    }
   ],
   "source": [
    "# Quantidade de documentos em uma cokecao\n",
    "col.estimated_document_count()"
   ]
  },
  {
   "cell_type": "code",
   "execution_count": null,
   "metadata": {},
   "outputs": [],
   "source": []
  }
 ],
 "metadata": {
  "kernelspec": {
   "display_name": "Python 3",
   "language": "python",
   "name": "python3"
  },
  "language_info": {
   "codemirror_mode": {
    "name": "ipython",
    "version": 3
   },
   "file_extension": ".py",
   "mimetype": "text/x-python",
   "name": "python",
   "nbconvert_exporter": "python",
   "pygments_lexer": "ipython3",
   "version": "3.6.7"
  }
 },
 "nbformat": 4,
 "nbformat_minor": 2
}
