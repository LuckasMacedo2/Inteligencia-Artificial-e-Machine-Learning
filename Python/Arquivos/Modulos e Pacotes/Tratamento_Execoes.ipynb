{
 "cells": [
  {
   "cell_type": "markdown",
   "metadata": {},
   "source": [
    "Erros e exceções\n",
    "    Erro -> Linguagem\n",
    "    Exceção -> Usuario\n",
    "Bloco de tratamento\n",
    "    try:\n",
    "    \n",
    "    except erro:\n",
    "    \n",
    "    "
   ]
  },
  {
   "cell_type": "code",
   "execution_count": 38,
   "metadata": {},
   "outputs": [
    {
     "name": "stdout",
     "output_type": "stream",
     "text": [
      "Invalido\n"
     ]
    }
   ],
   "source": [
    "# try e except\n",
    "try:\n",
    "    0 + 'a'\n",
    "except TypeError:\n",
    "    print ('Invalido')"
   ]
  },
  {
   "cell_type": "code",
   "execution_count": 39,
   "metadata": {},
   "outputs": [
    {
     "name": "stdout",
     "output_type": "stream",
     "text": [
      "OK\n"
     ]
    }
   ],
   "source": [
    "# try, except e else\n",
    "try:\n",
    "    f = open('teste.txt', 'w')\n",
    "    f.write('OK')\n",
    "except IOError:\n",
    "    print ('Erro no arquivo')\n",
    "else:\n",
    "    print ('OK')\n",
    "    f.close()"
   ]
  },
  {
   "cell_type": "code",
   "execution_count": 40,
   "metadata": {},
   "outputs": [
    {
     "name": "stdout",
     "output_type": "stream",
     "text": [
      "OK\n",
      "Executada com sucesso\n"
     ]
    }
   ],
   "source": [
    "# try, except, else e finally\n",
    "# finally executada o erro ocorrendo ou nao\n",
    "try:\n",
    "    f = open('teste.txt', 'w')\n",
    "    f.write('OK')\n",
    "except IOError:\n",
    "    print ('Erro no arquivo')\n",
    "else:\n",
    "    print ('OK')\n",
    "    f.close()\n",
    "finally:\n",
    "    print('Executada com sucesso')"
   ]
  },
  {
   "cell_type": "code",
   "execution_count": null,
   "metadata": {},
   "outputs": [],
   "source": []
  }
 ],
 "metadata": {
  "kernelspec": {
   "display_name": "Python 3",
   "language": "python",
   "name": "python3"
  },
  "language_info": {
   "codemirror_mode": {
    "name": "ipython",
    "version": 3
   },
   "file_extension": ".py",
   "mimetype": "text/x-python",
   "name": "python",
   "nbconvert_exporter": "python",
   "pygments_lexer": "ipython3",
   "version": "3.6.7"
  }
 },
 "nbformat": 4,
 "nbformat_minor": 2
}
