{
 "cells": [
  {
   "cell_type": "markdown",
   "metadata": {},
   "source": [
    "LINK\n",
    "\n",
    "https://cloud.ibm.com/apidocs/discovery?language=python"
   ]
  },
  {
   "cell_type": "code",
   "execution_count": 1,
   "metadata": {},
   "outputs": [],
   "source": [
    "# Importando a biblioteca\n",
    "from watson_developer_cloud import DiscoveryV1"
   ]
  },
  {
   "cell_type": "code",
   "execution_count": 4,
   "metadata": {},
   "outputs": [],
   "source": [
    "# Criando uma instância da Classe Discovery\n",
    "discovery = DiscoveryV1(\n",
    "    version='2018-12-03',\n",
    "    iam_apikey='YBRKPlbdNQ0tAhuIFBa9CsLWO_N-RVMEGCHPs8KwJwkj',\n",
    "    url='https://gateway.watsonplatform.net/discovery/api'\n",
    ")"
   ]
  },
  {
   "cell_type": "code",
   "execution_count": 47,
   "metadata": {},
   "outputs": [],
   "source": [
    "# Criando um ambiente\n",
    "from watson_developer_cloud import WatsonApiException\n",
    "\n",
    "try:\n",
    "    r = discovery.create_environment(name='Discovery', description='IC').get_result() # OK\n",
    "except WatsonApiException as ex:\n",
    "    print ('Erro {}. {}'.format(str(ex.code), ex.message))"
   ]
  },
  {
   "cell_type": "code",
   "execution_count": 48,
   "metadata": {},
   "outputs": [
    {
     "name": "stdout",
     "output_type": "stream",
     "text": [
      "{'environment_id': 'a94a5a3e-d433-4e20-bdb8-a71b42ea9a41', 'name': 'Discovery', 'description': 'IC', 'created': '2019-01-23T01:12:38.310Z', 'updated': '2019-01-23T01:12:38.310Z', 'status': 'active', 'read_only': False, 'size': 'LT', 'index_capacity': {'documents': {'available': 0, 'maximum_allowed': 1000}, 'disk_usage': {'used_bytes': 0, 'maximum_allowed_bytes': 200000000}, 'collections': {'available': 0, 'maximum_allowed': 2}}}\n"
     ]
    }
   ],
   "source": [
    "print (r)"
   ]
  },
  {
   "cell_type": "code",
   "execution_count": 50,
   "metadata": {},
   "outputs": [
    {
     "name": "stdout",
     "output_type": "stream",
     "text": [
      "{\n",
      "  \"environment_id\": \"a94a5a3e-d433-4e20-bdb8-a71b42ea9a41\",\n",
      "  \"name\": \"Discovery\",\n",
      "  \"description\": \"IC\",\n",
      "  \"created\": \"2019-01-23T01:12:38.310Z\",\n",
      "  \"updated\": \"2019-01-23T01:12:38.310Z\",\n",
      "  \"status\": \"active\",\n",
      "  \"read_only\": false,\n",
      "  \"size\": \"LT\",\n",
      "  \"index_capacity\": {\n",
      "    \"documents\": {\n",
      "      \"available\": 0,\n",
      "      \"maximum_allowed\": 1000\n",
      "    },\n",
      "    \"disk_usage\": {\n",
      "      \"used_bytes\": 0,\n",
      "      \"maximum_allowed_bytes\": 200000000\n",
      "    },\n",
      "    \"collections\": {\n",
      "      \"available\": 0,\n",
      "      \"maximum_allowed\": 2\n",
      "    }\n",
      "  }\n",
      "}\n"
     ]
    }
   ],
   "source": [
    "import json\n",
    "# Equivalente ao de cima\n",
    "print (json.dumps(r, indent = 2))"
   ]
  },
  {
   "cell_type": "code",
   "execution_count": 4,
   "metadata": {},
   "outputs": [
    {
     "data": {
      "text/plain": [
       "<watson_developer_cloud.watson_service.DetailedResponse at 0x7f2ead261d30>"
      ]
     },
     "execution_count": 4,
     "metadata": {},
     "output_type": "execute_result"
    }
   ],
   "source": [
    "# Listando os ambientes\n",
    "discovery.list_environments(name='DiscoveryIC')"
   ]
  },
  {
   "cell_type": "code",
   "execution_count": 54,
   "metadata": {},
   "outputs": [
    {
     "data": {
      "text/plain": [
       "<watson_developer_cloud.watson_service.DetailedResponse at 0x7fefb46dc668>"
      ]
     },
     "execution_count": 54,
     "metadata": {},
     "output_type": "execute_result"
    }
   ],
   "source": [
    "# Informações do Ambiente\n",
    "discovery.get_environment(environment_id = 'a94a5a3e-d433-4e20-bdb8-a71b42ea9a41')"
   ]
  },
  {
   "cell_type": "code",
   "execution_count": 56,
   "metadata": {},
   "outputs": [
    {
     "data": {
      "text/plain": [
       "{'environment_id': 'a94a5a3e-d433-4e20-bdb8-a71b42ea9a41',\n",
       " 'name': 'DiscoveryIC',\n",
       " 'description': None,\n",
       " 'created': '2019-01-23T01:12:38.310Z',\n",
       " 'updated': '2019-01-23T01:25:40.375Z',\n",
       " 'status': 'active',\n",
       " 'read_only': False,\n",
       " 'size': 'LT',\n",
       " 'index_capacity': {'documents': {'available': 0, 'maximum_allowed': 1000},\n",
       "  'disk_usage': {'used_bytes': 0, 'maximum_allowed_bytes': 200000000},\n",
       "  'collections': {'available': 0, 'maximum_allowed': 2}}}"
      ]
     },
     "execution_count": 56,
     "metadata": {},
     "output_type": "execute_result"
    }
   ],
   "source": [
    "# Alterando o ambiente\n",
    "a = discovery.update_environment(name = 'DiscoveryIC', environment_id = 'a94a5a3e-d433-4e20-bdb8-a71b42ea9a41').get_result()\n",
    "a"
   ]
  },
  {
   "cell_type": "code",
   "execution_count": null,
   "metadata": {},
   "outputs": [],
   "source": [
    "# Deletando o ambiente \n",
    "discovery.delete_environment(environment_id = 'a94a5a3e-d433-4e20-bdb8-a71b42ea9a41')"
   ]
  },
  {
   "cell_type": "code",
   "execution_count": 2,
   "metadata": {},
   "outputs": [],
   "source": [
    "# Ajudar\n",
    "env_id = 'a94a5a3e-d433-4e20-bdb8-a71b42ea9a41'\n",
    "api_key = 'YBRKPlbdNQ0tAhuIFBa9CsLWO_N-RVMEGCHPs8KwJwkj'\n",
    "v = '2018-12-03'\n",
    "link = 'https://gateway.watsonplatform.net/discovery/api'"
   ]
  },
  {
   "cell_type": "markdown",
   "metadata": {},
   "source": [
    "Configuração"
   ]
  },
  {
   "cell_type": "code",
   "execution_count": 22,
   "metadata": {},
   "outputs": [],
   "source": [
    "# Criando uma configracao\n",
    "\n",
    "new_config = discovery.create_configuration(env_id, name = 'teste').get_result()\n",
    "print(new_config)"
   ]
  },
  {
   "cell_type": "code",
   "execution_count": 23,
   "metadata": {},
   "outputs": [
    {
     "name": "stdout",
     "output_type": "stream",
     "text": [
      "{\n",
      "  \"configurations\": [\n",
      "    {\n",
      "      \"configuration_id\": \"e3407925-60da-4ade-8208-ee0b2a1f223a\",\n",
      "      \"name\": \"Default Configuration\",\n",
      "      \"description\": \"The configuration used by default when creating a new collection without specifying a configuration_id.\",\n",
      "      \"created\": \"2019-01-23T01:12:38.344Z\",\n",
      "      \"updated\": \"2019-01-23T01:12:38.344Z\"\n",
      "    },\n",
      "    {\n",
      "      \"configuration_id\": \"12a7339d-6d06-456e-93cc-e823c73b21aa\",\n",
      "      \"name\": \"Default Contract Configuration\",\n",
      "      \"description\": \"Extract party, nature, and category from elements in PDFs.\",\n",
      "      \"created\": \"2019-01-23T01:13:07.115Z\",\n",
      "      \"updated\": \"2019-01-23T01:13:07.115Z\"\n",
      "    },\n",
      "    {\n",
      "      \"configuration_id\": \"504b645d-1d6f-4f50-aecf-909baf558bd2\",\n",
      "      \"name\": \"teste\",\n",
      "      \"description\": \"\",\n",
      "      \"created\": \"2019-01-23T21:39:45.218Z\",\n",
      "      \"updated\": \"2019-01-23T21:39:45.218Z\"\n",
      "    }\n",
      "  ]\n",
      "}\n"
     ]
    }
   ],
   "source": [
    "# Listando as configuracoes\n",
    "import json\n",
    "import os\n",
    "\n",
    "configurations = discovery.list_configurations(env_id).get_result()\n",
    "print (json.dumps(configurations, indent = 2))\n",
    "\n",
    "# Códigos de erro\n",
    "# 200 Ok\n",
    "# 400 Erro"
   ]
  },
  {
   "cell_type": "code",
   "execution_count": 30,
   "metadata": {},
   "outputs": [],
   "source": [
    "conf_id = 'e3407925-60da-4ade-8208-ee0b2a1f223a'"
   ]
  },
  {
   "cell_type": "code",
   "execution_count": 31,
   "metadata": {},
   "outputs": [
    {
     "name": "stdout",
     "output_type": "stream",
     "text": [
      "{\n",
      "  \"configuration_id\": \"e3407925-60da-4ade-8208-ee0b2a1f223a\",\n",
      "  \"name\": \"Default Configuration\",\n",
      "  \"created\": \"2019-01-23T01:12:38.344Z\",\n",
      "  \"updated\": \"2019-01-23T01:12:38.344Z\",\n",
      "  \"description\": \"The configuration used by default when creating a new collection without specifying a configuration_id.\",\n",
      "  \"conversions\": {\n",
      "    \"html\": {\n",
      "      \"exclude_content\": {\n",
      "        \"xpaths\": []\n",
      "      },\n",
      "      \"exclude_tag_attributes\": [\n",
      "        \"EVENT_ACTIONS\"\n",
      "      ],\n",
      "      \"exclude_tags_completely\": [\n",
      "        \"script\",\n",
      "        \"sup\"\n",
      "      ],\n",
      "      \"exclude_tags_keep_content\": [\n",
      "        \"font\",\n",
      "        \"em\",\n",
      "        \"span\"\n",
      "      ],\n",
      "      \"keep_content\": {\n",
      "        \"xpaths\": []\n",
      "      }\n",
      "    },\n",
      "    \"json_normalizations\": [],\n",
      "    \"pdf\": {\n",
      "      \"heading\": {\n",
      "        \"fonts\": [\n",
      "          {\n",
      "            \"level\": 1,\n",
      "            \"max_size\": 80,\n",
      "            \"min_size\": 24\n",
      "          },\n",
      "          {\n",
      "            \"bold\": false,\n",
      "            \"italic\": false,\n",
      "            \"level\": 2,\n",
      "            \"max_size\": 24,\n",
      "            \"min_size\": 18\n",
      "          },\n",
      "          {\n",
      "            \"bold\": true,\n",
      "            \"level\": 2,\n",
      "            \"max_size\": 24,\n",
      "            \"min_size\": 18\n",
      "          },\n",
      "          {\n",
      "            \"bold\": false,\n",
      "            \"italic\": false,\n",
      "            \"level\": 3,\n",
      "            \"max_size\": 18,\n",
      "            \"min_size\": 13\n",
      "          },\n",
      "          {\n",
      "            \"bold\": true,\n",
      "            \"level\": 3,\n",
      "            \"max_size\": 18,\n",
      "            \"min_size\": 13\n",
      "          },\n",
      "          {\n",
      "            \"bold\": false,\n",
      "            \"italic\": false,\n",
      "            \"level\": 4,\n",
      "            \"max_size\": 13,\n",
      "            \"min_size\": 11\n",
      "          }\n",
      "        ]\n",
      "      }\n",
      "    },\n",
      "    \"word\": {\n",
      "      \"heading\": {\n",
      "        \"fonts\": [\n",
      "          {\n",
      "            \"bold\": false,\n",
      "            \"italic\": false,\n",
      "            \"level\": 1,\n",
      "            \"min_size\": 24\n",
      "          },\n",
      "          {\n",
      "            \"bold\": true,\n",
      "            \"italic\": false,\n",
      "            \"level\": 2,\n",
      "            \"max_size\": 23,\n",
      "            \"min_size\": 18\n",
      "          },\n",
      "          {\n",
      "            \"bold\": false,\n",
      "            \"italic\": false,\n",
      "            \"level\": 3,\n",
      "            \"max_size\": 17,\n",
      "            \"min_size\": 14\n",
      "          },\n",
      "          {\n",
      "            \"bold\": true,\n",
      "            \"italic\": false,\n",
      "            \"level\": 4,\n",
      "            \"max_size\": 13,\n",
      "            \"min_size\": 13\n",
      "          }\n",
      "        ],\n",
      "        \"styles\": [\n",
      "          {\n",
      "            \"level\": 1,\n",
      "            \"names\": [\n",
      "              \"pullout heading\",\n",
      "              \"pulloutheading\",\n",
      "              \"header\"\n",
      "            ]\n",
      "          },\n",
      "          {\n",
      "            \"level\": 2,\n",
      "            \"names\": [\n",
      "              \"subtitle\"\n",
      "            ]\n",
      "          }\n",
      "        ]\n",
      "      }\n",
      "    }\n",
      "  },\n",
      "  \"enrichments\": [\n",
      "    {\n",
      "      \"destination_field\": \"enriched_text\",\n",
      "      \"enrichment\": \"natural_language_understanding\",\n",
      "      \"options\": {\n",
      "        \"features\": {\n",
      "          \"categories\": {},\n",
      "          \"concepts\": {\n",
      "            \"limit\": 8\n",
      "          },\n",
      "          \"entities\": {\n",
      "            \"emotion\": false,\n",
      "            \"limit\": 50,\n",
      "            \"sentiment\": true\n",
      "          },\n",
      "          \"sentiment\": {\n",
      "            \"document\": true\n",
      "          }\n",
      "        }\n",
      "      },\n",
      "      \"source_field\": \"text\"\n",
      "    }\n",
      "  ],\n",
      "  \"normalizations\": []\n",
      "}\n"
     ]
    }
   ],
   "source": [
    "# Listando as configuracoes\n",
    "config = discovery.get_configuration(env_id, conf_id).get_result()\n",
    "print(json.dumps(config, indent=2))"
   ]
  },
  {
   "cell_type": "code",
   "execution_count": 33,
   "metadata": {},
   "outputs": [
    {
     "ename": "WatsonApiException",
     "evalue": "Error: Forbidden. Cannot Update default Configuration: Default Configuration, Code: 403 , X-dp-watson-tran-id: gateway02-1532457429 , X-global-transaction-id: ffea405d5c48e1155b5771d5",
     "output_type": "error",
     "traceback": [
      "\u001b[0;31m---------------------------------------------------------------------------\u001b[0m",
      "\u001b[0;31mWatsonApiException\u001b[0m                        Traceback (most recent call last)",
      "\u001b[0;32m<ipython-input-33-4a62e5fd00be>\u001b[0m in \u001b[0;36m<module>\u001b[0;34m\u001b[0m\n\u001b[1;32m      1\u001b[0m \u001b[0;31m# Alterando um configuracao\u001b[0m\u001b[0;34m\u001b[0m\u001b[0;34m\u001b[0m\u001b[0;34m\u001b[0m\u001b[0m\n\u001b[1;32m      2\u001b[0m \u001b[0;34m\u001b[0m\u001b[0m\n\u001b[0;32m----> 3\u001b[0;31m \u001b[0mdiscovery\u001b[0m\u001b[0;34m.\u001b[0m\u001b[0mupdate_configuration\u001b[0m\u001b[0;34m(\u001b[0m\u001b[0menv_id\u001b[0m\u001b[0;34m,\u001b[0m \u001b[0mconf_id\u001b[0m\u001b[0;34m,\u001b[0m \u001b[0;34m\"Default Configuration\"\u001b[0m\u001b[0;34m)\u001b[0m\u001b[0;34m.\u001b[0m\u001b[0mget_result\u001b[0m\u001b[0;34m(\u001b[0m\u001b[0;34m)\u001b[0m\u001b[0;34m\u001b[0m\u001b[0;34m\u001b[0m\u001b[0m\n\u001b[0m\u001b[1;32m      4\u001b[0m \u001b[0mprint\u001b[0m\u001b[0;34m(\u001b[0m\u001b[0mjson\u001b[0m\u001b[0;34m.\u001b[0m\u001b[0mdumps\u001b[0m\u001b[0;34m(\u001b[0m\u001b[0mupdated_config\u001b[0m\u001b[0;34m,\u001b[0m \u001b[0mindent\u001b[0m\u001b[0;34m=\u001b[0m\u001b[0;36m2\u001b[0m\u001b[0;34m)\u001b[0m\u001b[0;34m)\u001b[0m\u001b[0;34m\u001b[0m\u001b[0;34m\u001b[0m\u001b[0m\n",
      "\u001b[0;32m/usr/local/lib/python3.6/dist-packages/watson_developer_cloud/discovery_v1.py\u001b[0m in \u001b[0;36mupdate_configuration\u001b[0;34m(self, environment_id, configuration_id, name, description, conversions, enrichments, normalizations, source, **kwargs)\u001b[0m\n\u001b[1;32m    587\u001b[0m             \u001b[0mparams\u001b[0m\u001b[0;34m=\u001b[0m\u001b[0mparams\u001b[0m\u001b[0;34m,\u001b[0m\u001b[0;34m\u001b[0m\u001b[0;34m\u001b[0m\u001b[0m\n\u001b[1;32m    588\u001b[0m             \u001b[0mjson\u001b[0m\u001b[0;34m=\u001b[0m\u001b[0mdata\u001b[0m\u001b[0;34m,\u001b[0m\u001b[0;34m\u001b[0m\u001b[0;34m\u001b[0m\u001b[0m\n\u001b[0;32m--> 589\u001b[0;31m             accept_json=True)\n\u001b[0m\u001b[1;32m    590\u001b[0m         \u001b[0;32mreturn\u001b[0m \u001b[0mresponse\u001b[0m\u001b[0;34m\u001b[0m\u001b[0;34m\u001b[0m\u001b[0m\n\u001b[1;32m    591\u001b[0m \u001b[0;34m\u001b[0m\u001b[0m\n",
      "\u001b[0;32m/usr/local/lib/python3.6/dist-packages/watson_developer_cloud/watson_service.py\u001b[0m in \u001b[0;36mrequest\u001b[0;34m(self, method, url, accept_json, headers, params, json, data, files, **kwargs)\u001b[0m\n\u001b[1;32m    493\u001b[0m             \u001b[0merror_info\u001b[0m \u001b[0;34m=\u001b[0m \u001b[0mself\u001b[0m\u001b[0;34m.\u001b[0m\u001b[0m_get_error_info\u001b[0m\u001b[0;34m(\u001b[0m\u001b[0mresponse\u001b[0m\u001b[0;34m)\u001b[0m\u001b[0;34m\u001b[0m\u001b[0;34m\u001b[0m\u001b[0m\n\u001b[1;32m    494\u001b[0m             raise WatsonApiException(response.status_code, error_message,\n\u001b[0;32m--> 495\u001b[0;31m                                      info=error_info, httpResponse=response)\n\u001b[0m",
      "\u001b[0;31mWatsonApiException\u001b[0m: Error: Forbidden. Cannot Update default Configuration: Default Configuration, Code: 403 , X-dp-watson-tran-id: gateway02-1532457429 , X-global-transaction-id: ffea405d5c48e1155b5771d5"
     ]
    }
   ],
   "source": [
    "# Alterando um configuracao\n",
    "\n",
    "discovery.update_configuration(env_id, conf_id, \"Default Configuration\").get_result()\n",
    "print(json.dumps(updated_config, indent=2))"
   ]
  },
  {
   "cell_type": "code",
   "execution_count": null,
   "metadata": {},
   "outputs": [],
   "source": [
    "config_delete = discovery.delete_configuration(env_id, conf_idj).get_result()\n",
    "print(json.dumps(config_delete, indent=2))"
   ]
  },
  {
   "cell_type": "code",
   "execution_count": 36,
   "metadata": {},
   "outputs": [
    {
     "ename": "AttributeError",
     "evalue": "'DiscoveryV1' object has no attribute 'test_document'",
     "output_type": "error",
     "traceback": [
      "\u001b[0;31m---------------------------------------------------------------------------\u001b[0m",
      "\u001b[0;31mAttributeError\u001b[0m                            Traceback (most recent call last)",
      "\u001b[0;32m<ipython-input-36-4a8062783c2b>\u001b[0m in \u001b[0;36m<module>\u001b[0;34m\u001b[0m\n\u001b[1;32m      3\u001b[0m \u001b[0;31m# file = O arquivo a ser 'ingesto'\u001b[0m\u001b[0;34m\u001b[0m\u001b[0;34m\u001b[0m\u001b[0;34m\u001b[0m\u001b[0m\n\u001b[1;32m      4\u001b[0m \u001b[0;32mwith\u001b[0m \u001b[0mopen\u001b[0m\u001b[0;34m(\u001b[0m\u001b[0mos\u001b[0m\u001b[0;34m.\u001b[0m\u001b[0mpath\u001b[0m\u001b[0;34m.\u001b[0m\u001b[0mjoin\u001b[0m\u001b[0;34m(\u001b[0m\u001b[0mos\u001b[0m\u001b[0;34m.\u001b[0m\u001b[0mgetcwd\u001b[0m\u001b[0;34m(\u001b[0m\u001b[0;34m)\u001b[0m\u001b[0;34m,\u001b[0m  \u001b[0;34m'simple.html'\u001b[0m\u001b[0;34m)\u001b[0m\u001b[0;34m)\u001b[0m \u001b[0;32mas\u001b[0m \u001b[0mfileinfo\u001b[0m\u001b[0;34m:\u001b[0m\u001b[0;34m\u001b[0m\u001b[0;34m\u001b[0m\u001b[0m\n\u001b[0;32m----> 5\u001b[0;31m     \u001b[0mprint\u001b[0m\u001b[0;34m(\u001b[0m\u001b[0mjson\u001b[0m\u001b[0;34m.\u001b[0m\u001b[0mdumps\u001b[0m\u001b[0;34m(\u001b[0m\u001b[0mdiscovery\u001b[0m\u001b[0;34m.\u001b[0m\u001b[0mtest_document\u001b[0m\u001b[0;34m(\u001b[0m\u001b[0menvironment_id\u001b[0m\u001b[0;34m=\u001b[0m \u001b[0menv_id\u001b[0m\u001b[0;34m,\u001b[0m \u001b[0mconfiguration_id\u001b[0m\u001b[0;34m=\u001b[0m\u001b[0mconf_id\u001b[0m\u001b[0;34m,\u001b[0m \u001b[0mfile\u001b[0m\u001b[0;34m=\u001b[0m\u001b[0mfileinfo\u001b[0m\u001b[0;34m)\u001b[0m\u001b[0;34m.\u001b[0m\u001b[0mget_result\u001b[0m\u001b[0;34m(\u001b[0m\u001b[0;34m)\u001b[0m\u001b[0;34m,\u001b[0m \u001b[0mindent\u001b[0m\u001b[0;34m=\u001b[0m\u001b[0;36m2\u001b[0m\u001b[0;34m)\u001b[0m\u001b[0;34m)\u001b[0m\u001b[0;34m\u001b[0m\u001b[0;34m\u001b[0m\u001b[0m\n\u001b[0m",
      "\u001b[0;31mAttributeError\u001b[0m: 'DiscoveryV1' object has no attribute 'test_document'"
     ]
    }
   ],
   "source": [
    "#Testando as configuracoes\n",
    "\n",
    "# file = O arquivo a ser 'ingesto'\n",
    "with open(os.path.join(os.getcwd(),  'simple.html')) as fileinfo:\n",
    "    print(json.dumps(discovery.test_document(environment_id= env_id, configuration_id=conf_id, file=fileinfo).get_result(), indent=2))"
   ]
  },
  {
   "cell_type": "markdown",
   "metadata": {},
   "source": [
    "Coleções"
   ]
  },
  {
   "cell_type": "code",
   "execution_count": 47,
   "metadata": {},
   "outputs": [
    {
     "name": "stdout",
     "output_type": "stream",
     "text": [
      "{\n",
      "    \"result\": {\n",
      "        \"name\": \"Cole\\u00e7\\u00e3o\",\n",
      "        \"collection_id\": \"26f6c9df-6011-404b-862f-a3b536421514\",\n",
      "        \"description\": \"Cole\\u00e7\\u00e3o de teste\",\n",
      "        \"created\": \"2019-01-24T22:52:48.182Z\",\n",
      "        \"updated\": \"2019-01-24T22:52:48.182Z\",\n",
      "        \"configuration_id\": \"e3407925-60da-4ade-8208-ee0b2a1f223a\",\n",
      "        \"language\": \"en\",\n",
      "        \"status\": \"active\"\n",
      "    },\n",
      "    \"headers\": {\n",
      "        \"_store\": {\n",
      "            \"x-backside-transport\": [\n",
      "                \"X-Backside-Transport\",\n",
      "                \"OK OK\"\n",
      "            ],\n",
      "            \"content-type\": [\n",
      "                \"Content-Type\",\n",
      "                \"application/json;charset=utf-8\"\n",
      "            ],\n",
      "            \"access-control-allow-origin\": [\n",
      "                \"Access-Control-Allow-Origin\",\n",
      "                \"*\"\n",
      "            ],\n",
      "            \"access-control-allow-methods\": [\n",
      "                \"Access-Control-Allow-Methods\",\n",
      "                \"GET, PUT, POST, DELETE, OPTIONS\"\n",
      "            ],\n",
      "            \"cache-control\": [\n",
      "                \"Cache-Control\",\n",
      "                \"no-cache, no-store, no-transform, max-age=0\"\n",
      "            ],\n",
      "            \"pragma\": [\n",
      "                \"Pragma\",\n",
      "                \"no-cache\"\n",
      "            ],\n",
      "            \"expires\": [\n",
      "                \"Expires\",\n",
      "                \"0\"\n",
      "            ],\n",
      "            \"x-content-type-options\": [\n",
      "                \"X-Content-Type-Options\",\n",
      "                \"nosniff\"\n",
      "            ],\n",
      "            \"x-xss-protection\": [\n",
      "                \"X-XSS-Protection\",\n",
      "                \"1\"\n",
      "            ],\n",
      "            \"content-security-policy\": [\n",
      "                \"Content-Security-Policy\",\n",
      "                \"default-src 'none'\"\n",
      "            ],\n",
      "            \"access-control-allow-headers\": [\n",
      "                \"Access-Control-Allow-Headers\",\n",
      "                \"Origin, Content-Type, Content-Length, Accept, X-Watson-Authorization-Token, X-WDC-PL-OPT-OUT, X-Watson-UserInfo, X-Watson-Learning-Opt-Out, X-Watson-Metadata\"\n",
      "            ],\n",
      "            \"x-global-transaction-id\": [\n",
      "                \"x-global-transaction-id\",\n",
      "                \"ffea405d5c4a41c050a5b991\"\n",
      "            ],\n",
      "            \"x-dp-watson-tran-id\": [\n",
      "                \"X-DP-Watson-Tran-ID\",\n",
      "                \"gateway02-1353038225\"\n",
      "            ],\n",
      "            \"x-dp-transit-id\": [\n",
      "                \"X-DP-Transit-ID\",\n",
      "                \"gateway02-1353038225\"\n",
      "            ],\n",
      "            \"strict-transport-security\": [\n",
      "                \"Strict-Transport-Security\",\n",
      "                \"max-age=31536000;\"\n",
      "            ],\n",
      "            \"content-encoding\": [\n",
      "                \"Content-Encoding\",\n",
      "                \"gzip\"\n",
      "            ],\n",
      "            \"content-length\": [\n",
      "                \"Content-Length\",\n",
      "                \"218\"\n",
      "            ],\n",
      "            \"date\": [\n",
      "                \"Date\",\n",
      "                \"Thu, 24 Jan 2019 22:52:51 GMT\"\n",
      "            ],\n",
      "            \"connection\": [\n",
      "                \"Connection\",\n",
      "                \"keep-alive\"\n",
      "            ],\n",
      "            \"vary\": [\n",
      "                \"Vary\",\n",
      "                \"Accept-Encoding\"\n",
      "            ]\n",
      "        }\n",
      "    },\n",
      "    \"status_code\": 201\n",
      "}\n"
     ]
    }
   ],
   "source": [
    "# Criando uma colecao\n",
    "\n",
    "# Por default a linguagem e em portugues\n",
    "#nova_colecao = discovery.create_collection(env_id, 'Coleção', description='Coleção de teste', language='en')\n",
    "nova_colecao = discovery.create_collection(env_id, 'Coleção', description='Coleção de teste')\n",
    "print (nova_colecao)"
   ]
  },
  {
   "cell_type": "code",
   "execution_count": 55,
   "metadata": {},
   "outputs": [
    {
     "name": "stdout",
     "output_type": "stream",
     "text": [
      "{\n",
      "  \"collections\": [\n",
      "    {\n",
      "      \"collection_id\": \"d9bb0e73-54f2-4768-911d-46370bc3dd82\",\n",
      "      \"name\": \"Cole\\u00e7\\u00e3o\",\n",
      "      \"configuration_id\": \"e3407925-60da-4ade-8208-ee0b2a1f223a\",\n",
      "      \"language\": \"pt\",\n",
      "      \"status\": \"active\",\n",
      "      \"description\": \"Cole\\u00e7\\u00e3o de teste\",\n",
      "      \"created\": \"2019-01-23T22:28:41.290Z\",\n",
      "      \"updated\": \"2019-01-23T22:28:41.290Z\"\n",
      "    }\n",
      "  ]\n",
      "}\n"
     ]
    }
   ],
   "source": [
    "# Listando as coleções\n",
    "\n",
    "# Retorna um vetor de colecoes\n",
    "colecoes = discovery.list_collections(env_id).get_result()\n",
    "print (json.dumps(colecoes, indent=2))"
   ]
  },
  {
   "cell_type": "code",
   "execution_count": 48,
   "metadata": {},
   "outputs": [],
   "source": [
    "col_id = \"26f6c9df-6011-404b-862f-a3b536421514\""
   ]
  },
  {
   "cell_type": "code",
   "execution_count": 41,
   "metadata": {},
   "outputs": [
    {
     "name": "stdout",
     "output_type": "stream",
     "text": [
      "{\n",
      "  \"collection_id\": \"8f6508ec-9d4e-4959-847b-cd48c957e3ff\",\n",
      "  \"name\": \"Cole\\u00e7\\u00e3o\",\n",
      "  \"configuration_id\": \"e3407925-60da-4ade-8208-ee0b2a1f223a\",\n",
      "  \"language\": \"pt\",\n",
      "  \"status\": \"active\",\n",
      "  \"description\": \"Cole\\u00e7\\u00e3o de teste\",\n",
      "  \"created\": \"2019-01-23T22:20:49.189Z\",\n",
      "  \"updated\": \"2019-01-23T22:20:49.189Z\",\n",
      "  \"document_counts\": {\n",
      "    \"available\": 0,\n",
      "    \"processing\": 0,\n",
      "    \"failed\": 0\n",
      "  },\n",
      "  \"disk_usage\": {\n",
      "    \"used_bytes\": 162\n",
      "  },\n",
      "  \"training_status\": {\n",
      "    \"data_updated\": \"\",\n",
      "    \"total_examples\": 0,\n",
      "    \"sufficient_label_diversity\": false,\n",
      "    \"processing\": false,\n",
      "    \"minimum_examples_added\": false,\n",
      "    \"successfully_trained\": \"\",\n",
      "    \"available\": false,\n",
      "    \"notices\": 0,\n",
      "    \"minimum_queries_added\": false\n",
      "  },\n",
      "  \"crawl_status\": {\n",
      "    \"source_crawl\": {\n",
      "      \"status\": \"not_configured\"\n",
      "    }\n",
      "  }\n",
      "}\n"
     ]
    }
   ],
   "source": [
    "# Detalhes da colecao\n",
    "\n",
    "colecoes_detalhes = discovery.get_collection(env_id, col_id).get_result()\n",
    "print(json.dumps(colecoes_detalhes, indent=2))"
   ]
  },
  {
   "cell_type": "code",
   "execution_count": 38,
   "metadata": {},
   "outputs": [
    {
     "name": "stdout",
     "output_type": "stream",
     "text": [
      "{\n",
      "  \"collection_id\": \"d9bb0e73-54f2-4768-911d-46370bc3dd82\",\n",
      "  \"name\": \"Cole\\u00e7\\u00e3o IC\",\n",
      "  \"configuration_id\": \"e3407925-60da-4ade-8208-ee0b2a1f223a\",\n",
      "  \"language\": \"pt\",\n",
      "  \"status\": \"active\",\n",
      "  \"description\": \"Cole\\u00e7\\u00e3o Alterada\",\n",
      "  \"created\": \"2019-01-23T22:28:41.290Z\",\n",
      "  \"updated\": \"2019-01-24T22:48:20.157Z\"\n",
      "}\n"
     ]
    }
   ],
   "source": [
    "# Alterando a colecao\n",
    "import json\n",
    "colecao_alterada = discovery.update_collection(environment_id=env_id, collection_id=col_id, name='Coleção IC', description='Coleção Alterada', language = 'en').get_result()\n",
    "print(json.dumps(colecao_alterada, indent=2))"
   ]
  },
  {
   "cell_type": "code",
   "execution_count": 46,
   "metadata": {},
   "outputs": [
    {
     "name": "stdout",
     "output_type": "stream",
     "text": [
      "{\n",
      "  \"collection_id\": \"453641b6-83c3-4c91-b211-e46756ddfe15\",\n",
      "  \"status\": \"deleted\"\n",
      "}\n"
     ]
    }
   ],
   "source": [
    "# Deletando a colecao\n",
    "\n",
    "colecao_deletada = discovery.delete_collection(env_id, col_id).get_result()\n",
    "print(json.dumps(colecao_deletada, indent=2))"
   ]
  },
  {
   "cell_type": "markdown",
   "metadata": {},
   "source": [
    "Lista de expansão"
   ]
  },
  {
   "cell_type": "code",
   "execution_count": 8,
   "metadata": {},
   "outputs": [],
   "source": [
    "# Obtendo a lista\n",
    "# Retorna uma matriz de expansoes , cada objeto representa um termo ou conjunto de termos que serao\n",
    "# expandidos em outros termos\n",
    "\n",
    "# O numero maximo de termos expandidos para colecao e 500\n",
    "a = discovery.list_expansions(env_id, col_id).get_result()"
   ]
  },
  {
   "cell_type": "code",
   "execution_count": 11,
   "metadata": {},
   "outputs": [
    {
     "data": {
      "text/plain": [
       "{'expansions': [{'expanded_terms': ['']}]}"
      ]
     },
     "execution_count": 11,
     "metadata": {},
     "output_type": "execute_result"
    }
   ],
   "source": [
    "a"
   ]
  },
  {
   "cell_type": "code",
   "execution_count": 29,
   "metadata": {},
   "outputs": [],
   "source": [
    "# Criando uma lista de expansao\n",
    "expansions = []\n",
    "b = discovery.create_expansions(env_id, col_id, expansions).get_result()"
   ]
  },
  {
   "cell_type": "code",
   "execution_count": 23,
   "metadata": {},
   "outputs": [
    {
     "data": {
      "text/plain": [
       "{'expansions': []}"
      ]
     },
     "execution_count": 23,
     "metadata": {},
     "output_type": "execute_result"
    }
   ],
   "source": [
    "b"
   ]
  },
  {
   "cell_type": "code",
   "execution_count": 49,
   "metadata": {},
   "outputs": [],
   "source": [
    "# Deletando uma lista de expansao\n",
    "c = discovery.delete_expansions(env_id, col_id)"
   ]
  },
  {
   "cell_type": "code",
   "execution_count": 45,
   "metadata": {},
   "outputs": [
    {
     "ename": "WatsonApiException",
     "evalue": "Error: The current language [en] does not support custom tokenization_dictionary files., Code: 400 , X-dp-watson-tran-id: gateway02-1925635469 , X-global-transaction-id: ffea405d5c4a412c72c6dd8d",
     "output_type": "error",
     "traceback": [
      "\u001b[0;31m---------------------------------------------------------------------------\u001b[0m",
      "\u001b[0;31mWatsonApiException\u001b[0m                        Traceback (most recent call last)",
      "\u001b[0;32m<ipython-input-45-c91947863216>\u001b[0m in \u001b[0;36m<module>\u001b[0;34m\u001b[0m\n\u001b[1;32m      1\u001b[0m \u001b[0;31m# Criando um dicionario de tokenizacao\u001b[0m\u001b[0;34m\u001b[0m\u001b[0;34m\u001b[0m\u001b[0;34m\u001b[0m\u001b[0m\n\u001b[0;32m----> 2\u001b[0;31m \u001b[0mdiscovery\u001b[0m\u001b[0;34m.\u001b[0m\u001b[0mcreate_tokenization_dictionary\u001b[0m\u001b[0;34m(\u001b[0m\u001b[0menv_id\u001b[0m\u001b[0;34m,\u001b[0m \u001b[0mcol_id\u001b[0m\u001b[0;34m)\u001b[0m\u001b[0;34m\u001b[0m\u001b[0;34m\u001b[0m\u001b[0m\n\u001b[0m",
      "\u001b[0;32m/usr/local/lib/python3.6/dist-packages/watson_developer_cloud/discovery_v1.py\u001b[0m in \u001b[0;36mcreate_tokenization_dictionary\u001b[0;34m(self, environment_id, collection_id, tokenization_rules, **kwargs)\u001b[0m\n\u001b[1;32m   1019\u001b[0m             \u001b[0mparams\u001b[0m\u001b[0;34m=\u001b[0m\u001b[0mparams\u001b[0m\u001b[0;34m,\u001b[0m\u001b[0;34m\u001b[0m\u001b[0;34m\u001b[0m\u001b[0m\n\u001b[1;32m   1020\u001b[0m             \u001b[0mjson\u001b[0m\u001b[0;34m=\u001b[0m\u001b[0mdata\u001b[0m\u001b[0;34m,\u001b[0m\u001b[0;34m\u001b[0m\u001b[0;34m\u001b[0m\u001b[0m\n\u001b[0;32m-> 1021\u001b[0;31m             accept_json=True)\n\u001b[0m\u001b[1;32m   1022\u001b[0m         \u001b[0;32mreturn\u001b[0m \u001b[0mresponse\u001b[0m\u001b[0;34m\u001b[0m\u001b[0;34m\u001b[0m\u001b[0m\n\u001b[1;32m   1023\u001b[0m \u001b[0;34m\u001b[0m\u001b[0m\n",
      "\u001b[0;32m/usr/local/lib/python3.6/dist-packages/watson_developer_cloud/watson_service.py\u001b[0m in \u001b[0;36mrequest\u001b[0;34m(self, method, url, accept_json, headers, params, json, data, files, **kwargs)\u001b[0m\n\u001b[1;32m    493\u001b[0m             \u001b[0merror_info\u001b[0m \u001b[0;34m=\u001b[0m \u001b[0mself\u001b[0m\u001b[0;34m.\u001b[0m\u001b[0m_get_error_info\u001b[0m\u001b[0;34m(\u001b[0m\u001b[0mresponse\u001b[0m\u001b[0;34m)\u001b[0m\u001b[0;34m\u001b[0m\u001b[0;34m\u001b[0m\u001b[0m\n\u001b[1;32m    494\u001b[0m             raise WatsonApiException(response.status_code, error_message,\n\u001b[0;32m--> 495\u001b[0;31m                                      info=error_info, httpResponse=response)\n\u001b[0m",
      "\u001b[0;31mWatsonApiException\u001b[0m: Error: The current language [en] does not support custom tokenization_dictionary files., Code: 400 , X-dp-watson-tran-id: gateway02-1925635469 , X-global-transaction-id: ffea405d5c4a412c72c6dd8d"
     ]
    }
   ],
   "source": [
    "# Criando um dicionario de tokenizacao\n",
    "discovery.create_tokenization_dictionary(env_id, col_id)"
   ]
  },
  {
   "cell_type": "code",
   "execution_count": 50,
   "metadata": {},
   "outputs": [],
   "source": [
    "# Pegando a tokenizacao atual dos dicionario da colecao\n",
    "#d = discovery.get_tokenization_dictionary_status(env_id, col_id)"
   ]
  },
  {
   "cell_type": "markdown",
   "metadata": {},
   "source": [
    "Criando um lista de top words"
   ]
  },
  {
   "cell_type": "code",
   "execution_count": 52,
   "metadata": {},
   "outputs": [],
   "source": [
    "from nltk.corpus import stopwords"
   ]
  },
  {
   "cell_type": "code",
   "execution_count": 54,
   "metadata": {},
   "outputs": [
    {
     "data": {
      "text/plain": [
       "list"
      ]
     },
     "execution_count": 54,
     "metadata": {},
     "output_type": "execute_result"
    }
   ],
   "source": [
    "type (stopwords.words('portuguese'))"
   ]
  },
  {
   "cell_type": "code",
   "execution_count": 55,
   "metadata": {},
   "outputs": [],
   "source": [
    "# Criando o arquivo de stop words, palavras de parada\n",
    "file = open('stopwords.txt', 'w')"
   ]
  },
  {
   "cell_type": "code",
   "execution_count": 58,
   "metadata": {},
   "outputs": [
    {
     "data": {
      "text/plain": [
       "1840"
      ]
     },
     "execution_count": 58,
     "metadata": {},
     "output_type": "execute_result"
    }
   ],
   "source": [
    "file.write(str(stopwords.words('portuguese')))"
   ]
  },
  {
   "cell_type": "code",
   "execution_count": 59,
   "metadata": {},
   "outputs": [],
   "source": [
    "file.close()"
   ]
  },
  {
   "cell_type": "code",
   "execution_count": 61,
   "metadata": {},
   "outputs": [],
   "source": [
    "# Lendo o arquivo\n",
    "file = open('stopwords.txt', 'r')\n",
    "file.read()\n",
    "file.close()"
   ]
  },
  {
   "cell_type": "code",
   "execution_count": 63,
   "metadata": {},
   "outputs": [
    {
     "ename": "AttributeError",
     "evalue": "'DiscoveryV1' object has no attribute 'create_stopword_list'",
     "output_type": "error",
     "traceback": [
      "\u001b[0;31m---------------------------------------------------------------------------\u001b[0m",
      "\u001b[0;31mAttributeError\u001b[0m                            Traceback (most recent call last)",
      "\u001b[0;32m<ipython-input-63-5874358fa43f>\u001b[0m in \u001b[0;36m<module>\u001b[0;34m\u001b[0m\n\u001b[1;32m      1\u001b[0m \u001b[0;31m# Criando uma lista de stopwords\u001b[0m\u001b[0;34m\u001b[0m\u001b[0;34m\u001b[0m\u001b[0;34m\u001b[0m\u001b[0m\n\u001b[1;32m      2\u001b[0m \u001b[0;34m\u001b[0m\u001b[0m\n\u001b[0;32m----> 3\u001b[0;31m \u001b[0mresposta\u001b[0m \u001b[0;34m=\u001b[0m \u001b[0mdiscovery\u001b[0m\u001b[0;34m.\u001b[0m\u001b[0mcreate_stopword_list\u001b[0m\u001b[0;34m(\u001b[0m\u001b[0menv_id\u001b[0m\u001b[0;34m,\u001b[0m \u001b[0mcol_id\u001b[0m\u001b[0;34m)\u001b[0m\u001b[0;34m\u001b[0m\u001b[0;34m\u001b[0m\u001b[0m\n\u001b[0m",
      "\u001b[0;31mAttributeError\u001b[0m: 'DiscoveryV1' object has no attribute 'create_stopword_list'"
     ]
    }
   ],
   "source": [
    "# Criando uma lista de stopwords\n",
    "\n",
    "resposta = discovery.create_stopword_list(env_id, col_id)"
   ]
  },
  {
   "cell_type": "code",
   "execution_count": null,
   "metadata": {},
   "outputs": [],
   "source": []
  }
 ],
 "metadata": {
  "kernelspec": {
   "display_name": "Python 3",
   "language": "python",
   "name": "python3"
  },
  "language_info": {
   "codemirror_mode": {
    "name": "ipython",
    "version": 3
   },
   "file_extension": ".py",
   "mimetype": "text/x-python",
   "name": "python",
   "nbconvert_exporter": "python",
   "pygments_lexer": "ipython3",
   "version": "3.6.7"
  }
 },
 "nbformat": 4,
 "nbformat_minor": 2
}
