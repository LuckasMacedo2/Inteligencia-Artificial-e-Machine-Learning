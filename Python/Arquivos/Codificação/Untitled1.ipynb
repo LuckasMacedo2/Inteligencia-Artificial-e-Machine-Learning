{
 "cells": [
  {
   "cell_type": "code",
   "execution_count": 2,
   "metadata": {},
   "outputs": [],
   "source": [
    "import json\n",
    "import os\n",
    "from watson_developer_cloud import WatsonApiException"
   ]
  },
  {
   "cell_type": "code",
   "execution_count": 16,
   "metadata": {},
   "outputs": [],
   "source": [
    "def imprimir(response):\n",
    "    return (json.dumps(response, indent = 2))"
   ]
  },
  {
   "cell_type": "code",
   "execution_count": 1,
   "metadata": {},
   "outputs": [],
   "source": [
    "# Importando a biblioteca\n",
    "from watson_developer_cloud import DiscoveryV1\n",
    "\n",
    "# Criando uma instância da Classe Discovery\n",
    "discovery = DiscoveryV1(\n",
    "    version='2018-12-03',\n",
    "    iam_apikey='YBRKPlbdNQ0tAhuIFBa9CsLWO_N-RVMEGCHPs8KwJwkj',\n",
    "    url='https://gateway.watsonplatform.net/discovery/api'\n",
    ")\n",
    "\n",
    "#variaveis\n",
    "col_id = \"26f6c9df-6011-404b-862f-a3b536421514\"\n",
    "env_id = 'a94a5a3e-d433-4e20-bdb8-a71b42ea9a41'\n",
    "api_key = 'YBRKPlbdNQ0tAhuIFBa9CsLWO_N-RVMEGCHPs8KwJwkj'\n",
    "v = '2018-12-03'\n",
    "link = 'https://gateway.watsonplatform.net/discovery/api'"
   ]
  },
  {
   "cell_type": "markdown",
   "metadata": {},
   "source": [
    "__Adcionando a documentação__\n",
    "    A documentação tem de possuir no minimo 50 Mega bytes"
   ]
  },
  {
   "cell_type": "code",
   "execution_count": 38,
   "metadata": {},
   "outputs": [],
   "source": [
    "path = '/home/lucas/Área de Trabalho/Iniciação Cientifica/Desgraça/Doc'"
   ]
  },
  {
   "cell_type": "code",
   "execution_count": 9,
   "metadata": {},
   "outputs": [
    {
     "name": "stdout",
     "output_type": "stream",
     "text": [
      "{\n",
      "  \"document_id\": \"51ffb0be-b385-4e58-9f91-daf3fdbfe4b8\",\n",
      "  \"status\": \"processing\"\n",
      "}\n"
     ]
    }
   ],
   "source": [
    "try:\n",
    "    with open(os.path.join(os.getcwd(), path, 't5.html')) as fileinfo:\n",
    "        add_doc = discovery.add_document(env_id, col_id, file=fileinfo).get_result()\n",
    "    print(json.dumps(add_doc, indent=2))\n",
    "except WatsonApiException as ex:\n",
    "    print ('Erro {}. {}'.format(str(ex.code), ex.message))"
   ]
  },
  {
   "cell_type": "code",
   "execution_count": 42,
   "metadata": {},
   "outputs": [],
   "source": [
    "doc6_id = \"51ffb0be-b385-4e58-9f91-daf3fdbfe4b8\""
   ]
  },
  {
   "cell_type": "code",
   "execution_count": 39,
   "metadata": {},
   "outputs": [],
   "source": [
    "doc5_id = '9563f056-9be7-4103-9829-99feb30801a2'"
   ]
  },
  {
   "cell_type": "code",
   "execution_count": 5,
   "metadata": {},
   "outputs": [],
   "source": [
    "doc_info = discovery.get_document_status(env_id, col_id, doc5_id).get_result()"
   ]
  },
  {
   "cell_type": "code",
   "execution_count": 6,
   "metadata": {},
   "outputs": [
    {
     "name": "stdout",
     "output_type": "stream",
     "text": [
      "{\n",
      "  \"document_id\": \"9563f056-9be7-4103-9829-99feb30801a2\",\n",
      "  \"filename\": \"t6.html\",\n",
      "  \"file_type\": \"html\",\n",
      "  \"sha1\": \"da39a3ee5e6b4b0d3255bfef95601890afd80709\",\n",
      "  \"status\": \"failed\",\n",
      "  \"status_description\": \"Document failed to be ingested and indexed\",\n",
      "  \"notices\": [\n",
      "    {\n",
      "      \"notice_id\": \"empty_input_to_converter\",\n",
      "      \"document_id\": \"9563f056-9be7-4103-9829-99feb30801a2\",\n",
      "      \"created\": \"2019-01-25T22:32:38.616Z\",\n",
      "      \"severity\": \"warning\",\n",
      "      \"step\": \"\",\n",
      "      \"description\": \"Error during document conversion. The HTML document contains no body content.\"\n",
      "    }\n",
      "  ]\n",
      "}\n"
     ]
    }
   ],
   "source": [
    "print (json.dumps(doc_info, indent = 2))"
   ]
  },
  {
   "cell_type": "markdown",
   "metadata": {},
   "source": [
    "__Substitituindo um documento existente por outro__"
   ]
  },
  {
   "cell_type": "code",
   "execution_count": 40,
   "metadata": {},
   "outputs": [],
   "source": [
    "file = open(path+'/t6.html', 'r')"
   ]
  },
  {
   "cell_type": "code",
   "execution_count": 41,
   "metadata": {},
   "outputs": [
    {
     "name": "stdout",
     "output_type": "stream",
     "text": [
      "{\n",
      "  \"document_id\": \"9563f056-9be7-4103-9829-99feb30801a2\",\n",
      "  \"status\": \"processing\"\n",
      "}\n"
     ]
    }
   ],
   "source": [
    "upd_doc = discovery.update_document(env_id, col_id, doc5_id, file).get_result()\n",
    "print (json.dumps(upd_doc, indent = 2))"
   ]
  },
  {
   "cell_type": "markdown",
   "metadata": {},
   "source": [
    "__Deletando um documento__"
   ]
  },
  {
   "cell_type": "code",
   "execution_count": 48,
   "metadata": {},
   "outputs": [
    {
     "name": "stdout",
     "output_type": "stream",
     "text": [
      "{\n",
      "  \"document_id\": \"9563f056-9be7-4103-9829-99feb30801a2\",\n",
      "  \"status\": \"deleted\"\n",
      "}\n"
     ]
    }
   ],
   "source": [
    "delete_doc = discovery.delete_document(env_id, col_id, doc5_id).get_result()\n",
    "print(json.dumps(delete_doc, indent=2))"
   ]
  },
  {
   "cell_type": "markdown",
   "metadata": {},
   "source": [
    "https://console.bluemix.net/docs/services/discovery/using.html"
   ]
  },
  {
   "cell_type": "markdown",
   "metadata": {},
   "source": [
    "__Querie__"
   ]
  },
  {
   "cell_type": "code",
   "execution_count": 12,
   "metadata": {},
   "outputs": [
    {
     "name": "stdout",
     "output_type": "stream",
     "text": [
      "{\n",
      "  \"matching_results\": 1,\n",
      "  \"session_token\": \"1_KAwudnNWgD8MdPA5_YyDtE773m\",\n",
      "  \"results\": [\n",
      "    {\n",
      "      \"id\": \"51ffb0be-b385-4e58-9f91-daf3fdbfe4b8\",\n",
      "      \"result_metadata\": {\n",
      "        \"confidence\": 0.08408220853860772,\n",
      "        \"score\": 1\n",
      "      },\n",
      "      \"text\": \"no title\\n\\nPublished: Wed, 26 Oct 2016 11:00:27 GMT General Motors and IBM today announced a partnership to bring the power of OnStar and IBM Watson together to create OnStar Go, the auto industry's first cognitive mobility platform. Starting in early 2017, OnStar is expected to give millions of GM drivers the ability to connect and interact with their favorite brands. The platform will deliver personalized content through the dashboard and other digital channels supported by the OnStar Go ecosystem to make the most of time spent in the car. URL: http://www.ibm.com/press/us/en/pressrelease/50838.wss\",\n",
      "      \"enriched_text\": {\n",
      "        \"sentiment\": {\n",
      "          \"document\": {\n",
      "            \"score\": 0.851015,\n",
      "            \"label\": \"positive\"\n",
      "          }\n",
      "        },\n",
      "        \"entities\": [\n",
      "          {\n",
      "            \"count\": 2,\n",
      "            \"sentiment\": {\n",
      "              \"score\": 0.48308,\n",
      "              \"label\": \"positive\"\n",
      "            },\n",
      "            \"text\": \"OnStar\",\n",
      "            \"relevance\": 0.928426,\n",
      "            \"type\": \"Company\",\n",
      "            \"disambiguation\": {\n",
      "              \"subtype\": [],\n",
      "              \"name\": \"OnStar\",\n",
      "              \"dbpedia_resource\": \"http://dbpedia.org/resource/OnStar\"\n",
      "            }\n",
      "          },\n",
      "          {\n",
      "            \"count\": 1,\n",
      "            \"sentiment\": {\n",
      "              \"score\": 0,\n",
      "              \"label\": \"neutral\"\n",
      "            },\n",
      "            \"text\": \"IBM Watson\",\n",
      "            \"relevance\": 0.311851,\n",
      "            \"type\": \"Company\"\n",
      "          },\n",
      "          {\n",
      "            \"count\": 1,\n",
      "            \"sentiment\": {\n",
      "              \"score\": 0,\n",
      "              \"label\": \"neutral\"\n",
      "            },\n",
      "            \"text\": \"IBM\",\n",
      "            \"relevance\": 0.276216,\n",
      "            \"type\": \"Company\",\n",
      "            \"disambiguation\": {\n",
      "              \"subtype\": [\n",
      "                \"SoftwareLicense\",\n",
      "                \"OperatingSystemDeveloper\",\n",
      "                \"ProcessorManufacturer\",\n",
      "                \"SoftwareDeveloper\",\n",
      "                \"CompanyFounder\",\n",
      "                \"ProgrammingLanguageDesigner\",\n",
      "                \"ProgrammingLanguageDeveloper\"\n",
      "              ],\n",
      "              \"name\": \"IBM\",\n",
      "              \"dbpedia_resource\": \"http://dbpedia.org/resource/IBM\"\n",
      "            }\n",
      "          },\n",
      "          {\n",
      "            \"count\": 1,\n",
      "            \"sentiment\": {\n",
      "              \"score\": 0,\n",
      "              \"label\": \"neutral\"\n",
      "            },\n",
      "            \"text\": \"General Motors\",\n",
      "            \"relevance\": 0.264513,\n",
      "            \"type\": \"Company\",\n",
      "            \"disambiguation\": {\n",
      "              \"subtype\": [\n",
      "                \"AircraftManufacturer\",\n",
      "                \"AutomobileCompany\",\n",
      "                \"AwardWinner\"\n",
      "              ],\n",
      "              \"name\": \"General Motors\",\n",
      "              \"dbpedia_resource\": \"http://dbpedia.org/resource/General_Motors\"\n",
      "            }\n",
      "          },\n",
      "          {\n",
      "            \"count\": 1,\n",
      "            \"sentiment\": {\n",
      "              \"score\": 0.48308,\n",
      "              \"label\": \"positive\"\n",
      "            },\n",
      "            \"text\": \"GM\",\n",
      "            \"relevance\": 0.221113,\n",
      "            \"type\": \"JobTitle\"\n",
      "          }\n",
      "        ],\n",
      "        \"concepts\": [\n",
      "          {\n",
      "            \"text\": \"General Motors\",\n",
      "            \"relevance\": 0.980795,\n",
      "            \"dbpedia_resource\": \"http://dbpedia.org/resource/General_Motors\"\n",
      "          },\n",
      "          {\n",
      "            \"text\": \"Opel\",\n",
      "            \"relevance\": 0.686675,\n",
      "            \"dbpedia_resource\": \"http://dbpedia.org/resource/Opel\"\n",
      "          },\n",
      "          {\n",
      "            \"text\": \"World Wide Web\",\n",
      "            \"relevance\": 0.661861,\n",
      "            \"dbpedia_resource\": \"http://dbpedia.org/resource/World_Wide_Web\"\n",
      "          },\n",
      "          {\n",
      "            \"text\": \"Chevrolet\",\n",
      "            \"relevance\": 0.657231,\n",
      "            \"dbpedia_resource\": \"http://dbpedia.org/resource/Chevrolet\"\n",
      "          },\n",
      "          {\n",
      "            \"text\": \"Thomas J. Watson\",\n",
      "            \"relevance\": 0.645202,\n",
      "            \"dbpedia_resource\": \"http://dbpedia.org/resource/Thomas_J._Watson\"\n",
      "          },\n",
      "          {\n",
      "            \"text\": \"Lotus Software\",\n",
      "            \"relevance\": 0.614248,\n",
      "            \"dbpedia_resource\": \"http://dbpedia.org/resource/Lotus_Software\"\n",
      "          },\n",
      "          {\n",
      "            \"text\": \"Ford Motor Company\",\n",
      "            \"relevance\": 0.60633,\n",
      "            \"dbpedia_resource\": \"http://dbpedia.org/resource/Ford_Motor_Company\"\n",
      "          },\n",
      "          {\n",
      "            \"text\": \"Hewlett-Packard\",\n",
      "            \"relevance\": 0.550636,\n",
      "            \"dbpedia_resource\": \"http://dbpedia.org/resource/Hewlett-Packard\"\n",
      "          }\n",
      "        ],\n",
      "        \"categories\": [\n",
      "          {\n",
      "            \"score\": 0.984515,\n",
      "            \"label\": \"/automotive and vehicles/vehicle brands/chevrolet\"\n",
      "          },\n",
      "          {\n",
      "            \"score\": 0.895812,\n",
      "            \"label\": \"/automotive and vehicles/vehicle brands/buick\"\n",
      "          },\n",
      "          {\n",
      "            \"score\": 0.862831,\n",
      "            \"label\": \"/automotive and vehicles/cars/coupe\"\n",
      "          }\n",
      "        ]\n",
      "      },\n",
      "      \"extracted_metadata\": {\n",
      "        \"sha1\": \"a205c36037e190dd49d1c0058cd7b60ad8607205\",\n",
      "        \"filename\": \"t5.html\",\n",
      "        \"file_type\": \"html\",\n",
      "        \"title\": \"no title\"\n",
      "      },\n",
      "      \"html\": \"<?xml version='1.0' encoding='UTF-8' standalone='yes'?><html>\\n<head>\\n    <meta content=\\\"text/html; charset=UTF-8\\\" http-equiv=\\\"Content-Type\\\"/><title>no title</title></head>\\n<body>Published: Wed, 26 Oct 2016 11:00:27 GMT\\n\\nGeneral Motors and IBM today announced a partnership to bring the power of OnStar and IBM Watson together to create OnStar Go, the auto industry's first cognitive mobility platform. Starting in early 2017, OnStar is expected to give millions of GM drivers the ability to connect and interact with their favorite brands. The platform will deliver personalized content through the dashboard and other digital channels supported by the OnStar Go ecosystem to make the most of time spent in the car.\\n\\nURL: http://www.ibm.com/press/us/en/pressrelease/50838.wss\\n</body></html>\"\n",
      "    }\n",
      "  ],\n",
      "  \"retrieval_details\": {\n",
      "    \"document_retrieval_strategy\": \"untrained\"\n",
      "  }\n",
      "}\n"
     ]
    }
   ],
   "source": [
    "# Querie\n",
    "response = discovery.query(env_id, col_id, query='enriched_text.concepts.relevance:\"0.550636\"').get_result()\n",
    "print (json.dumps(response, indent = 2))"
   ]
  },
  {
   "cell_type": "markdown",
   "metadata": {},
   "source": [
    "__Treinamento__"
   ]
  },
  {
   "cell_type": "code",
   "execution_count": 31,
   "metadata": {},
   "outputs": [
    {
     "name": "stdout",
     "output_type": "stream",
     "text": [
      "{\n",
      "  \"collection_id\": \"26f6c9df-6011-404b-862f-a3b536421514\",\n",
      "  \"environment_id\": \"a94a5a3e-d433-4e20-bdb8-a71b42ea9a41\",\n",
      "  \"queries\": [\n",
      "    {\n",
      "      \"natural_language_query\": \"Motors\",\n",
      "      \"filter\": \"\",\n",
      "      \"examples\": [],\n",
      "      \"query_id\": \"dd272849e867f29cc1454f7890bb444c64508421\",\n",
      "      \"created\": \"2019-01-26T23:10:35.980Z\",\n",
      "      \"updated\": \"2019-01-26T23:10:35.980Z\"\n",
      "    }\n",
      "  ]\n",
      "}\n"
     ]
    }
   ],
   "source": [
    "# Listando os dados de treinamento\n",
    "response = discovery.list_training_data(env_id, col_id).get_result()\n",
    "print (imprimir(response))"
   ]
  },
  {
   "cell_type": "code",
   "execution_count": 63,
   "metadata": {},
   "outputs": [
    {
     "name": "stdout",
     "output_type": "stream",
     "text": [
      "{\n",
      "  \"natural_language_query\": \"IBM\",\n",
      "  \"filter\": \"\",\n",
      "  \"examples\": [],\n",
      "  \"query_id\": \"633ba78b49e1f2bcadf3c9fb4edf776403187ea3\",\n",
      "  \"created\": \"2019-01-26T23:47:40.749Z\",\n",
      "  \"updated\": \"2019-01-26T23:47:40.749Z\"\n",
      "}\n"
     ]
    }
   ],
   "source": [
    "# Adicionando um querie\n",
    "try:\n",
    "    response = discovery.add_training_data(env_id, col_id, natural_language_query='IBM').get_result()\n",
    "    print (imprimir(response))\n",
    "except WatsonApiException as ex:\n",
    "    print ('Erro {}. {}'.format(str(ex.code), ex.message))"
   ]
  },
  {
   "cell_type": "code",
   "execution_count": 59,
   "metadata": {},
   "outputs": [
    {
     "name": "stdout",
     "output_type": "stream",
     "text": [
      "null\n"
     ]
    }
   ],
   "source": [
    "# Deletando todos os dados de treinamento\n",
    "response = discovery.delete_all_training_data(env_id, col_id).get_result()\n",
    "print(imprimir(response))"
   ]
  },
  {
   "cell_type": "code",
   "execution_count": 67,
   "metadata": {},
   "outputs": [],
   "source": [
    "qy_id = \"633ba78b49e1f2bcadf3c9fb4edf776403187ea3\""
   ]
  },
  {
   "cell_type": "code",
   "execution_count": 32,
   "metadata": {},
   "outputs": [
    {
     "name": "stdout",
     "output_type": "stream",
     "text": [
      "{\n",
      "  \"natural_language_query\": \"Motors\",\n",
      "  \"filter\": \"\",\n",
      "  \"examples\": [],\n",
      "  \"query_id\": \"dd272849e867f29cc1454f7890bb444c64508421\",\n",
      "  \"created\": \"2019-01-26T23:10:35.980Z\",\n",
      "  \"updated\": \"2019-01-26T23:10:35.980Z\"\n",
      "}\n"
     ]
    }
   ],
   "source": [
    "# Detalhes de uma query\n",
    "response = discovery.get_training_data(env_id, col_id, query_id).get_result()\n",
    "print(imprimir(response))"
   ]
  },
  {
   "cell_type": "code",
   "execution_count": null,
   "metadata": {},
   "outputs": [],
   "source": [
    "# Deletando uma query\n",
    "response = discovery.delete_training_data(env_id, col_id, query_id).get_result()\n",
    "print(imprimir(response))"
   ]
  },
  {
   "cell_type": "code",
   "execution_count": 34,
   "metadata": {},
   "outputs": [
    {
     "name": "stdout",
     "output_type": "stream",
     "text": [
      "{\n",
      "  \"examples\": []\n",
      "}\n"
     ]
    }
   ],
   "source": [
    "# Listando querys de exemplo\n",
    "response = discovery.list_training_examples(env_id, col_id, query_id).get_result()\n",
    "print(imprimir(response))"
   ]
  },
  {
   "cell_type": "code",
   "execution_count": 68,
   "metadata": {},
   "outputs": [
    {
     "name": "stdout",
     "output_type": "stream",
     "text": [
      "Erro 400. Missing required fields in request body\n"
     ]
    }
   ],
   "source": [
    "# Adicionando uma query de exemplo\n",
    "try:\n",
    "    response = discovery.create_training_example(env_id, col_id, qy_id).get_result()\n",
    "    print(imprimir(response))\n",
    "except WatsonApiException as ex:\n",
    "    print ('Erro {}. {}'.format(str(ex.code), ex.message))"
   ]
  },
  {
   "cell_type": "code",
   "execution_count": 70,
   "metadata": {},
   "outputs": [
    {
     "ename": "WatsonApiException",
     "evalue": "Error: Missing required fields in request body, Code: 400 , X-dp-watson-tran-id: gateway01-648634611 , X-global-transaction-id: 7ecac92c5c4cf21626a960f3",
     "output_type": "error",
     "traceback": [
      "\u001b[0;31m---------------------------------------------------------------------------\u001b[0m",
      "\u001b[0;31mWatsonApiException\u001b[0m                        Traceback (most recent call last)",
      "\u001b[0;32m<ipython-input-70-766f3d7091ae>\u001b[0m in \u001b[0;36m<module>\u001b[0;34m\u001b[0m\n\u001b[0;32m----> 1\u001b[0;31m \u001b[0mresponse\u001b[0m \u001b[0;34m=\u001b[0m \u001b[0mdiscovery\u001b[0m\u001b[0;34m.\u001b[0m\u001b[0mcreate_training_example\u001b[0m\u001b[0;34m(\u001b[0m\u001b[0menv_id\u001b[0m\u001b[0;34m,\u001b[0m \u001b[0mcol_id\u001b[0m\u001b[0;34m,\u001b[0m \u001b[0mqy_id\u001b[0m\u001b[0;34m)\u001b[0m\u001b[0;34m\u001b[0m\u001b[0;34m\u001b[0m\u001b[0m\n\u001b[0m",
      "\u001b[0;32m/usr/local/lib/python3.6/dist-packages/watson_developer_cloud/discovery_v1.py\u001b[0m in \u001b[0;36mcreate_training_example\u001b[0;34m(self, environment_id, collection_id, query_id, document_id, cross_reference, relevance, **kwargs)\u001b[0m\n\u001b[1;32m   2204\u001b[0m             \u001b[0mparams\u001b[0m\u001b[0;34m=\u001b[0m\u001b[0mparams\u001b[0m\u001b[0;34m,\u001b[0m\u001b[0;34m\u001b[0m\u001b[0;34m\u001b[0m\u001b[0m\n\u001b[1;32m   2205\u001b[0m             \u001b[0mjson\u001b[0m\u001b[0;34m=\u001b[0m\u001b[0mdata\u001b[0m\u001b[0;34m,\u001b[0m\u001b[0;34m\u001b[0m\u001b[0;34m\u001b[0m\u001b[0m\n\u001b[0;32m-> 2206\u001b[0;31m             accept_json=True)\n\u001b[0m\u001b[1;32m   2207\u001b[0m         \u001b[0;32mreturn\u001b[0m \u001b[0mresponse\u001b[0m\u001b[0;34m\u001b[0m\u001b[0;34m\u001b[0m\u001b[0m\n\u001b[1;32m   2208\u001b[0m \u001b[0;34m\u001b[0m\u001b[0m\n",
      "\u001b[0;32m/usr/local/lib/python3.6/dist-packages/watson_developer_cloud/watson_service.py\u001b[0m in \u001b[0;36mrequest\u001b[0;34m(self, method, url, accept_json, headers, params, json, data, files, **kwargs)\u001b[0m\n\u001b[1;32m    493\u001b[0m             \u001b[0merror_info\u001b[0m \u001b[0;34m=\u001b[0m \u001b[0mself\u001b[0m\u001b[0;34m.\u001b[0m\u001b[0m_get_error_info\u001b[0m\u001b[0;34m(\u001b[0m\u001b[0mresponse\u001b[0m\u001b[0;34m)\u001b[0m\u001b[0;34m\u001b[0m\u001b[0;34m\u001b[0m\u001b[0m\n\u001b[1;32m    494\u001b[0m             raise WatsonApiException(response.status_code, error_message,\n\u001b[0;32m--> 495\u001b[0;31m                                      info=error_info, httpResponse=response)\n\u001b[0m",
      "\u001b[0;31mWatsonApiException\u001b[0m: Error: Missing required fields in request body, Code: 400 , X-dp-watson-tran-id: gateway01-648634611 , X-global-transaction-id: 7ecac92c5c4cf21626a960f3"
     ]
    }
   ],
   "source": [
    "response = discovery.create_training_example(env_id, col_id, qy_id)"
   ]
  },
  {
   "cell_type": "code",
   "execution_count": null,
   "metadata": {},
   "outputs": [],
   "source": []
  }
 ],
 "metadata": {
  "kernelspec": {
   "display_name": "Python 3",
   "language": "python",
   "name": "python3"
  },
  "language_info": {
   "codemirror_mode": {
    "name": "ipython",
    "version": 3
   },
   "file_extension": ".py",
   "mimetype": "text/x-python",
   "name": "python",
   "nbconvert_exporter": "python",
   "pygments_lexer": "ipython3",
   "version": "3.6.7"
  }
 },
 "nbformat": 4,
 "nbformat_minor": 2
}
